{
  "nbformat": 4,
  "nbformat_minor": 0,
  "metadata": {
    "kernelspec": {
      "display_name": "Python 3",
      "language": "python",
      "name": "python3"
    },
    "language_info": {
      "codemirror_mode": {
        "name": "ipython",
        "version": 3
      },
      "file_extension": ".py",
      "mimetype": "text/x-python",
      "name": "python",
      "nbconvert_exporter": "python",
      "pygments_lexer": "ipython3",
      "version": "3.8.3"
    },
    "colab": {
      "name": "Data_Preparation_101.ipynb",
      "provenance": [],
      "include_colab_link": true
    }
  },
  "cells": [
    {
      "cell_type": "markdown",
      "metadata": {
        "id": "view-in-github",
        "colab_type": "text"
      },
      "source": [
        "<a href=\"https://colab.research.google.com/github/vccalvin33/DPhi_AdvancedMLBootcamp/blob/main/Data_Preparation_101.ipynb\" target=\"_parent\"><img src=\"https://colab.research.google.com/assets/colab-badge.svg\" alt=\"Open In Colab\"/></a>"
      ]
    },
    {
      "cell_type": "code",
      "metadata": {
        "id": "a1jm62pIaGTo"
      },
      "source": [
        "from IPython.core.interactiveshell import InteractiveShell\n",
        "InteractiveShell.ast_node_interactivity = \"all\"\n",
        "\n",
        "import pandas as pd                  # A fundamental package for linear algebra and multidimensional arrays\n",
        "import numpy as np                   # Data analysis and data manipulating tool\n",
        "import random                        # Library to generate random numbers\n",
        "from collections import Counter      # Collection is a Python module that implements specialized container datatypes providing \n",
        "                                     # Counter is a dict subclass for counting hashable objects\n",
        "# Visualization libraries\n",
        "import matplotlib.pyplot as plt\n",
        "import seaborn as sns\n",
        "\n",
        "# To ignore warnings in the notebook\n",
        "import warnings\n",
        "warnings.filterwarnings(\"ignore\")\n",
        "pd.set_option('display.max_rows', 500)"
      ],
      "execution_count": 1,
      "outputs": []
    },
    {
      "cell_type": "markdown",
      "metadata": {
        "id": "wdmScyVZaGTo"
      },
      "source": [
        "### Titanic dataset from Kaggle\n",
        "https://www.kaggle.com/c/titanic/data\n",
        "\n",
        "We have uploaded the dataset on GitHub so its raw link can be used directly as below:"
      ]
    },
    {
      "cell_type": "code",
      "metadata": {
        "id": "l22ogfPXaGTo",
        "colab": {
          "base_uri": "https://localhost:8080/"
        },
        "outputId": "8f1777e7-bab6-4229-bdcf-f174b7c9f123"
      },
      "source": [
        "# import training data\n",
        "train = pd.read_csv('https://raw.githubusercontent.com/dphi-official/Datasets/master/titanic_data.csv')\n",
        "train.shape\n",
        "\n",
        "# the data has 12 columns and 891 rows in the training set"
      ],
      "execution_count": 2,
      "outputs": [
        {
          "output_type": "execute_result",
          "data": {
            "text/plain": [
              "(891, 12)"
            ]
          },
          "metadata": {
            "tags": []
          },
          "execution_count": 2
        }
      ]
    },
    {
      "cell_type": "code",
      "metadata": {
        "id": "Ih62mPFFaGTo",
        "colab": {
          "base_uri": "https://localhost:8080/"
        },
        "outputId": "bcdf18a3-60dd-406d-b5d6-a5210a59f6bf"
      },
      "source": [
        "# import test data\n",
        "test = pd.read_csv('https://raw.githubusercontent.com/dphi-official/Datasets/master/titanic_test.csv')\n",
        "test.shape\n",
        "\n",
        "# the data has 11 columns and 418 rows in the test set\n",
        "# one column less because the target variable will \n",
        "# not be there in the test set)"
      ],
      "execution_count": 3,
      "outputs": [
        {
          "output_type": "execute_result",
          "data": {
            "text/plain": [
              "(418, 11)"
            ]
          },
          "metadata": {
            "tags": []
          },
          "execution_count": 3
        }
      ]
    },
    {
      "cell_type": "code",
      "metadata": {
        "id": "mN4Os48WaGTp",
        "colab": {
          "base_uri": "https://localhost:8080/"
        },
        "outputId": "8b273ea0-a84a-494c-a69c-e2b44aa08f84"
      },
      "source": [
        "# know the list of columns along with their data type\n",
        "train.dtypes"
      ],
      "execution_count": 4,
      "outputs": [
        {
          "output_type": "execute_result",
          "data": {
            "text/plain": [
              "PassengerId      int64\n",
              "Survived         int64\n",
              "Pclass           int64\n",
              "Name            object\n",
              "Sex             object\n",
              "Age            float64\n",
              "SibSp            int64\n",
              "Parch            int64\n",
              "Ticket          object\n",
              "Fare           float64\n",
              "Cabin           object\n",
              "Embarked        object\n",
              "dtype: object"
            ]
          },
          "metadata": {
            "tags": []
          },
          "execution_count": 4
        }
      ]
    },
    {
      "cell_type": "code",
      "metadata": {
        "id": "_dy-DNTdaGTp",
        "colab": {
          "base_uri": "https://localhost:8080/",
          "height": 204
        },
        "outputId": "a6659cdf-622d-41c1-c4dc-fd85d81979cb"
      },
      "source": [
        "# look at the first few rows of the data to understand the contents\n",
        "train.head()"
      ],
      "execution_count": 5,
      "outputs": [
        {
          "output_type": "execute_result",
          "data": {
            "text/html": [
              "<div>\n",
              "<style scoped>\n",
              "    .dataframe tbody tr th:only-of-type {\n",
              "        vertical-align: middle;\n",
              "    }\n",
              "\n",
              "    .dataframe tbody tr th {\n",
              "        vertical-align: top;\n",
              "    }\n",
              "\n",
              "    .dataframe thead th {\n",
              "        text-align: right;\n",
              "    }\n",
              "</style>\n",
              "<table border=\"1\" class=\"dataframe\">\n",
              "  <thead>\n",
              "    <tr style=\"text-align: right;\">\n",
              "      <th></th>\n",
              "      <th>PassengerId</th>\n",
              "      <th>Survived</th>\n",
              "      <th>Pclass</th>\n",
              "      <th>Name</th>\n",
              "      <th>Sex</th>\n",
              "      <th>Age</th>\n",
              "      <th>SibSp</th>\n",
              "      <th>Parch</th>\n",
              "      <th>Ticket</th>\n",
              "      <th>Fare</th>\n",
              "      <th>Cabin</th>\n",
              "      <th>Embarked</th>\n",
              "    </tr>\n",
              "  </thead>\n",
              "  <tbody>\n",
              "    <tr>\n",
              "      <th>0</th>\n",
              "      <td>1</td>\n",
              "      <td>0</td>\n",
              "      <td>3</td>\n",
              "      <td>Braund, Mr. Owen Harris</td>\n",
              "      <td>male</td>\n",
              "      <td>22.0</td>\n",
              "      <td>1</td>\n",
              "      <td>0</td>\n",
              "      <td>A/5 21171</td>\n",
              "      <td>7.2500</td>\n",
              "      <td>NaN</td>\n",
              "      <td>S</td>\n",
              "    </tr>\n",
              "    <tr>\n",
              "      <th>1</th>\n",
              "      <td>2</td>\n",
              "      <td>1</td>\n",
              "      <td>1</td>\n",
              "      <td>Cumings, Mrs. John Bradley (Florence Briggs Th...</td>\n",
              "      <td>female</td>\n",
              "      <td>38.0</td>\n",
              "      <td>1</td>\n",
              "      <td>0</td>\n",
              "      <td>PC 17599</td>\n",
              "      <td>71.2833</td>\n",
              "      <td>C85</td>\n",
              "      <td>C</td>\n",
              "    </tr>\n",
              "    <tr>\n",
              "      <th>2</th>\n",
              "      <td>3</td>\n",
              "      <td>1</td>\n",
              "      <td>3</td>\n",
              "      <td>Heikkinen, Miss. Laina</td>\n",
              "      <td>female</td>\n",
              "      <td>26.0</td>\n",
              "      <td>0</td>\n",
              "      <td>0</td>\n",
              "      <td>STON/O2. 3101282</td>\n",
              "      <td>7.9250</td>\n",
              "      <td>NaN</td>\n",
              "      <td>S</td>\n",
              "    </tr>\n",
              "    <tr>\n",
              "      <th>3</th>\n",
              "      <td>4</td>\n",
              "      <td>1</td>\n",
              "      <td>1</td>\n",
              "      <td>Futrelle, Mrs. Jacques Heath (Lily May Peel)</td>\n",
              "      <td>female</td>\n",
              "      <td>35.0</td>\n",
              "      <td>1</td>\n",
              "      <td>0</td>\n",
              "      <td>113803</td>\n",
              "      <td>53.1000</td>\n",
              "      <td>C123</td>\n",
              "      <td>S</td>\n",
              "    </tr>\n",
              "    <tr>\n",
              "      <th>4</th>\n",
              "      <td>5</td>\n",
              "      <td>0</td>\n",
              "      <td>3</td>\n",
              "      <td>Allen, Mr. William Henry</td>\n",
              "      <td>male</td>\n",
              "      <td>35.0</td>\n",
              "      <td>0</td>\n",
              "      <td>0</td>\n",
              "      <td>373450</td>\n",
              "      <td>8.0500</td>\n",
              "      <td>NaN</td>\n",
              "      <td>S</td>\n",
              "    </tr>\n",
              "  </tbody>\n",
              "</table>\n",
              "</div>"
            ],
            "text/plain": [
              "   PassengerId  Survived  Pclass  ...     Fare Cabin  Embarked\n",
              "0            1         0       3  ...   7.2500   NaN         S\n",
              "1            2         1       1  ...  71.2833   C85         C\n",
              "2            3         1       3  ...   7.9250   NaN         S\n",
              "3            4         1       1  ...  53.1000  C123         S\n",
              "4            5         0       3  ...   8.0500   NaN         S\n",
              "\n",
              "[5 rows x 12 columns]"
            ]
          },
          "metadata": {
            "tags": []
          },
          "execution_count": 5
        }
      ]
    },
    {
      "cell_type": "code",
      "metadata": {
        "id": "QmexySO1aGTp",
        "colab": {
          "base_uri": "https://localhost:8080/"
        },
        "outputId": "570b2c9b-5a59-4b2c-b555-da15b3dd5b1d"
      },
      "source": [
        "# detect columns with missing values - train data\n",
        "train_count_of_missval_by_col = (train.isnull().sum())\n",
        "# print('------------ all columns along with count of missing values ------------')\n",
        "# print(train_count_of_missval_by_col)\n",
        "print('------------ only columns which has missing values ------------')\n",
        "print(train_count_of_missval_by_col[train_count_of_missval_by_col > 0])\n",
        "print('------------ proportion of the missing data to total observations ------------')\n",
        "print(train_count_of_missval_by_col[train_count_of_missval_by_col > 0]/train.shape[0])"
      ],
      "execution_count": 6,
      "outputs": [
        {
          "output_type": "stream",
          "text": [
            "------------ only columns which has missing values ------------\n",
            "Age         177\n",
            "Cabin       687\n",
            "Embarked      2\n",
            "dtype: int64\n",
            "------------ proportion of the missing data to total observations ------------\n",
            "Age         0.198653\n",
            "Cabin       0.771044\n",
            "Embarked    0.002245\n",
            "dtype: float64\n"
          ],
          "name": "stdout"
        }
      ]
    },
    {
      "cell_type": "code",
      "metadata": {
        "id": "a-u_k6RqaGTp",
        "colab": {
          "base_uri": "https://localhost:8080/"
        },
        "outputId": "bf95ccbf-2e0c-4173-aba4-20d49b904235"
      },
      "source": [
        "# detect columns with missing values - test data\n",
        "test_count_of_missval_by_col = (test.isnull().sum())\n",
        "# print('------------ all columns along with count of missing values ------------')\n",
        "# print(test_count_of_missval_by_col)\n",
        "print('------------ only columns which has missing values ------------')\n",
        "print(test_count_of_missval_by_col[test_count_of_missval_by_col > 0])\n",
        "print('------------ proportion of the missing data to total observations ------------')\n",
        "print(test_count_of_missval_by_col[test_count_of_missval_by_col > 0]/test.shape[0])"
      ],
      "execution_count": 8,
      "outputs": [
        {
          "output_type": "stream",
          "text": [
            "------------ only columns which has missing values ------------\n",
            "Age       86\n",
            "Fare       1\n",
            "Cabin    327\n",
            "dtype: int64\n",
            "------------ proportion of the missing data to total observations ------------\n",
            "Age      0.205742\n",
            "Fare     0.002392\n",
            "Cabin    0.782297\n",
            "dtype: float64\n"
          ],
          "name": "stdout"
        }
      ]
    },
    {
      "cell_type": "code",
      "metadata": {
        "id": "yZoFy6ckaGTp",
        "colab": {
          "base_uri": "https://localhost:8080/",
          "height": 297
        },
        "outputId": "bd8c1523-ebff-40a8-956b-ed104f5d0837"
      },
      "source": [
        "# describe funtion takes all numeric columns and provide descriptive statistics on them\n",
        "train.describe()\n",
        "\n",
        "# Note1: PassengerId is an index column and is irrelevant in our model\n",
        "# Note2: Survived and Pclass are categorical variables but treated as numeric while importing"
      ],
      "execution_count": 9,
      "outputs": [
        {
          "output_type": "execute_result",
          "data": {
            "text/html": [
              "<div>\n",
              "<style scoped>\n",
              "    .dataframe tbody tr th:only-of-type {\n",
              "        vertical-align: middle;\n",
              "    }\n",
              "\n",
              "    .dataframe tbody tr th {\n",
              "        vertical-align: top;\n",
              "    }\n",
              "\n",
              "    .dataframe thead th {\n",
              "        text-align: right;\n",
              "    }\n",
              "</style>\n",
              "<table border=\"1\" class=\"dataframe\">\n",
              "  <thead>\n",
              "    <tr style=\"text-align: right;\">\n",
              "      <th></th>\n",
              "      <th>PassengerId</th>\n",
              "      <th>Survived</th>\n",
              "      <th>Pclass</th>\n",
              "      <th>Age</th>\n",
              "      <th>SibSp</th>\n",
              "      <th>Parch</th>\n",
              "      <th>Fare</th>\n",
              "    </tr>\n",
              "  </thead>\n",
              "  <tbody>\n",
              "    <tr>\n",
              "      <th>count</th>\n",
              "      <td>891.000000</td>\n",
              "      <td>891.000000</td>\n",
              "      <td>891.000000</td>\n",
              "      <td>714.000000</td>\n",
              "      <td>891.000000</td>\n",
              "      <td>891.000000</td>\n",
              "      <td>891.000000</td>\n",
              "    </tr>\n",
              "    <tr>\n",
              "      <th>mean</th>\n",
              "      <td>446.000000</td>\n",
              "      <td>0.383838</td>\n",
              "      <td>2.308642</td>\n",
              "      <td>29.699118</td>\n",
              "      <td>0.523008</td>\n",
              "      <td>0.381594</td>\n",
              "      <td>32.204208</td>\n",
              "    </tr>\n",
              "    <tr>\n",
              "      <th>std</th>\n",
              "      <td>257.353842</td>\n",
              "      <td>0.486592</td>\n",
              "      <td>0.836071</td>\n",
              "      <td>14.526497</td>\n",
              "      <td>1.102743</td>\n",
              "      <td>0.806057</td>\n",
              "      <td>49.693429</td>\n",
              "    </tr>\n",
              "    <tr>\n",
              "      <th>min</th>\n",
              "      <td>1.000000</td>\n",
              "      <td>0.000000</td>\n",
              "      <td>1.000000</td>\n",
              "      <td>0.420000</td>\n",
              "      <td>0.000000</td>\n",
              "      <td>0.000000</td>\n",
              "      <td>0.000000</td>\n",
              "    </tr>\n",
              "    <tr>\n",
              "      <th>25%</th>\n",
              "      <td>223.500000</td>\n",
              "      <td>0.000000</td>\n",
              "      <td>2.000000</td>\n",
              "      <td>20.125000</td>\n",
              "      <td>0.000000</td>\n",
              "      <td>0.000000</td>\n",
              "      <td>7.910400</td>\n",
              "    </tr>\n",
              "    <tr>\n",
              "      <th>50%</th>\n",
              "      <td>446.000000</td>\n",
              "      <td>0.000000</td>\n",
              "      <td>3.000000</td>\n",
              "      <td>28.000000</td>\n",
              "      <td>0.000000</td>\n",
              "      <td>0.000000</td>\n",
              "      <td>14.454200</td>\n",
              "    </tr>\n",
              "    <tr>\n",
              "      <th>75%</th>\n",
              "      <td>668.500000</td>\n",
              "      <td>1.000000</td>\n",
              "      <td>3.000000</td>\n",
              "      <td>38.000000</td>\n",
              "      <td>1.000000</td>\n",
              "      <td>0.000000</td>\n",
              "      <td>31.000000</td>\n",
              "    </tr>\n",
              "    <tr>\n",
              "      <th>max</th>\n",
              "      <td>891.000000</td>\n",
              "      <td>1.000000</td>\n",
              "      <td>3.000000</td>\n",
              "      <td>80.000000</td>\n",
              "      <td>8.000000</td>\n",
              "      <td>6.000000</td>\n",
              "      <td>512.329200</td>\n",
              "    </tr>\n",
              "  </tbody>\n",
              "</table>\n",
              "</div>"
            ],
            "text/plain": [
              "       PassengerId    Survived      Pclass  ...       SibSp       Parch        Fare\n",
              "count   891.000000  891.000000  891.000000  ...  891.000000  891.000000  891.000000\n",
              "mean    446.000000    0.383838    2.308642  ...    0.523008    0.381594   32.204208\n",
              "std     257.353842    0.486592    0.836071  ...    1.102743    0.806057   49.693429\n",
              "min       1.000000    0.000000    1.000000  ...    0.000000    0.000000    0.000000\n",
              "25%     223.500000    0.000000    2.000000  ...    0.000000    0.000000    7.910400\n",
              "50%     446.000000    0.000000    3.000000  ...    0.000000    0.000000   14.454200\n",
              "75%     668.500000    1.000000    3.000000  ...    1.000000    0.000000   31.000000\n",
              "max     891.000000    1.000000    3.000000  ...    8.000000    6.000000  512.329200\n",
              "\n",
              "[8 rows x 7 columns]"
            ]
          },
          "metadata": {
            "tags": []
          },
          "execution_count": 9
        }
      ]
    },
    {
      "cell_type": "code",
      "metadata": {
        "id": "q3iEQdaMaGTp"
      },
      "source": [
        "# pandasgui\n",
        "# from pandasgui import show\n",
        "# gui = show(train)"
      ],
      "execution_count": null,
      "outputs": []
    },
    {
      "cell_type": "code",
      "metadata": {
        "id": "iGA-mTpdaGTp",
        "colab": {
          "base_uri": "https://localhost:8080/"
        },
        "outputId": "b5a7f736-59fa-435c-ed68-dd5d0eb34414"
      },
      "source": [
        "# value_counts() reveals the unique number of values in a column along with the frequency - let us look at string columns\n",
        "train['Sex'].value_counts()\n",
        "train['Embarked'].value_counts()"
      ],
      "execution_count": 10,
      "outputs": [
        {
          "output_type": "execute_result",
          "data": {
            "text/plain": [
              "male      577\n",
              "female    314\n",
              "Name: Sex, dtype: int64"
            ]
          },
          "metadata": {
            "tags": []
          },
          "execution_count": 10
        },
        {
          "output_type": "execute_result",
          "data": {
            "text/plain": [
              "S    644\n",
              "C    168\n",
              "Q     77\n",
              "Name: Embarked, dtype: int64"
            ]
          },
          "metadata": {
            "tags": []
          },
          "execution_count": 10
        }
      ]
    },
    {
      "cell_type": "code",
      "metadata": {
        "id": "TkhylLs8aGTp",
        "colab": {
          "base_uri": "https://localhost:8080/"
        },
        "outputId": "0be1a767-178c-4b33-d209-5c1e3f97944e"
      },
      "source": [
        "# are the classes balanced? look at the target variable and understand the proportion - let us look at target variable\n",
        "# 0 = did not survive\n",
        "# 1 = survived\n",
        "train['Survived'].value_counts()\n",
        "train['Survived'].value_counts(normalize=True)"
      ],
      "execution_count": 11,
      "outputs": [
        {
          "output_type": "execute_result",
          "data": {
            "text/plain": [
              "0    549\n",
              "1    342\n",
              "Name: Survived, dtype: int64"
            ]
          },
          "metadata": {
            "tags": []
          },
          "execution_count": 11
        },
        {
          "output_type": "execute_result",
          "data": {
            "text/plain": [
              "0    0.616162\n",
              "1    0.383838\n",
              "Name: Survived, dtype: float64"
            ]
          },
          "metadata": {
            "tags": []
          },
          "execution_count": 11
        }
      ]
    },
    {
      "cell_type": "code",
      "metadata": {
        "id": "kWbqX2b8aGTp",
        "colab": {
          "base_uri": "https://localhost:8080/",
          "height": 204
        },
        "outputId": "bf962ac2-c7d1-4aa6-d6be-a377126f8632"
      },
      "source": [
        "# Drop irrelevant columns - Ticket and Name (may be passenger ID too - if not set it as index)\n",
        "del train['Name']\n",
        "del train['Ticket']\n",
        "del train['PassengerId']\n",
        "\n",
        "# Code for using the PassengerId column as index\n",
        "# train = train.set_index('PassengerId')\n",
        "train.head()"
      ],
      "execution_count": 12,
      "outputs": [
        {
          "output_type": "execute_result",
          "data": {
            "text/html": [
              "<div>\n",
              "<style scoped>\n",
              "    .dataframe tbody tr th:only-of-type {\n",
              "        vertical-align: middle;\n",
              "    }\n",
              "\n",
              "    .dataframe tbody tr th {\n",
              "        vertical-align: top;\n",
              "    }\n",
              "\n",
              "    .dataframe thead th {\n",
              "        text-align: right;\n",
              "    }\n",
              "</style>\n",
              "<table border=\"1\" class=\"dataframe\">\n",
              "  <thead>\n",
              "    <tr style=\"text-align: right;\">\n",
              "      <th></th>\n",
              "      <th>Survived</th>\n",
              "      <th>Pclass</th>\n",
              "      <th>Sex</th>\n",
              "      <th>Age</th>\n",
              "      <th>SibSp</th>\n",
              "      <th>Parch</th>\n",
              "      <th>Fare</th>\n",
              "      <th>Cabin</th>\n",
              "      <th>Embarked</th>\n",
              "    </tr>\n",
              "  </thead>\n",
              "  <tbody>\n",
              "    <tr>\n",
              "      <th>0</th>\n",
              "      <td>0</td>\n",
              "      <td>3</td>\n",
              "      <td>male</td>\n",
              "      <td>22.0</td>\n",
              "      <td>1</td>\n",
              "      <td>0</td>\n",
              "      <td>7.2500</td>\n",
              "      <td>NaN</td>\n",
              "      <td>S</td>\n",
              "    </tr>\n",
              "    <tr>\n",
              "      <th>1</th>\n",
              "      <td>1</td>\n",
              "      <td>1</td>\n",
              "      <td>female</td>\n",
              "      <td>38.0</td>\n",
              "      <td>1</td>\n",
              "      <td>0</td>\n",
              "      <td>71.2833</td>\n",
              "      <td>C85</td>\n",
              "      <td>C</td>\n",
              "    </tr>\n",
              "    <tr>\n",
              "      <th>2</th>\n",
              "      <td>1</td>\n",
              "      <td>3</td>\n",
              "      <td>female</td>\n",
              "      <td>26.0</td>\n",
              "      <td>0</td>\n",
              "      <td>0</td>\n",
              "      <td>7.9250</td>\n",
              "      <td>NaN</td>\n",
              "      <td>S</td>\n",
              "    </tr>\n",
              "    <tr>\n",
              "      <th>3</th>\n",
              "      <td>1</td>\n",
              "      <td>1</td>\n",
              "      <td>female</td>\n",
              "      <td>35.0</td>\n",
              "      <td>1</td>\n",
              "      <td>0</td>\n",
              "      <td>53.1000</td>\n",
              "      <td>C123</td>\n",
              "      <td>S</td>\n",
              "    </tr>\n",
              "    <tr>\n",
              "      <th>4</th>\n",
              "      <td>0</td>\n",
              "      <td>3</td>\n",
              "      <td>male</td>\n",
              "      <td>35.0</td>\n",
              "      <td>0</td>\n",
              "      <td>0</td>\n",
              "      <td>8.0500</td>\n",
              "      <td>NaN</td>\n",
              "      <td>S</td>\n",
              "    </tr>\n",
              "  </tbody>\n",
              "</table>\n",
              "</div>"
            ],
            "text/plain": [
              "   Survived  Pclass     Sex   Age  SibSp  Parch     Fare Cabin Embarked\n",
              "0         0       3    male  22.0      1      0   7.2500   NaN        S\n",
              "1         1       1  female  38.0      1      0  71.2833   C85        C\n",
              "2         1       3  female  26.0      0      0   7.9250   NaN        S\n",
              "3         1       1  female  35.0      1      0  53.1000  C123        S\n",
              "4         0       3    male  35.0      0      0   8.0500   NaN        S"
            ]
          },
          "metadata": {
            "tags": []
          },
          "execution_count": 12
        }
      ]
    },
    {
      "cell_type": "code",
      "metadata": {
        "id": "3CXaawbDaGTp",
        "colab": {
          "base_uri": "https://localhost:8080/"
        },
        "outputId": "4bfa94a5-4bc2-4a1d-ae49-6e626527235a"
      },
      "source": [
        "# missing values - too many missing values - drop the column\n",
        "# del train['Cabin']\n",
        "\n",
        "# missing values - few missing columns - delete the rows with missing values - Fare column has zeros\n",
        "train.shape\n",
        "train = train[train['Fare'] != 0]\n",
        "train.shape"
      ],
      "execution_count": 13,
      "outputs": [
        {
          "output_type": "execute_result",
          "data": {
            "text/plain": [
              "(891, 9)"
            ]
          },
          "metadata": {
            "tags": []
          },
          "execution_count": 13
        },
        {
          "output_type": "execute_result",
          "data": {
            "text/plain": [
              "(876, 9)"
            ]
          },
          "metadata": {
            "tags": []
          },
          "execution_count": 13
        }
      ]
    },
    {
      "cell_type": "code",
      "metadata": {
        "id": "5NQQ3HL6aGTp"
      },
      "source": [
        "# missing values - numeric - impute with mean in column age\n",
        "from sklearn.impute import SimpleImputer # Importing imputer from sklearn\n",
        "\n",
        "mean_imputer = SimpleImputer(missing_values=np.nan, strategy='mean')\n",
        "mean_imputer = mean_imputer.fit(train[['Age']])\n",
        "train['Age'] = mean_imputer.transform(train[['Age']]).ravel()\n",
        "\n",
        "# missing values - categorical - impute with mode (most frequent)\n",
        "mode_imputer = SimpleImputer(missing_values=np.NaN, strategy='most_frequent')\n",
        "mode_imputer = mode_imputer.fit(train[['Embarked']])\n",
        "train['Embarked'] = mode_imputer.transform(train[['Embarked']]).ravel()\n",
        "\n",
        "# alternative method - missing values - categorical - impute with mode (constant)\n",
        "# const_imputer = SimpleImputer(missing_values=np.NaN, strategy='constant', fill_value = 'A')\n",
        "# const_imputer = const_imputer.fit(train[['Embarked']])\n",
        "# train['Embarked'] = const_imputer.transform(train[['Embarked']]).ravel()"
      ],
      "execution_count": 14,
      "outputs": []
    },
    {
      "cell_type": "code",
      "metadata": {
        "id": "Jzug55QoaGTp",
        "colab": {
          "base_uri": "https://localhost:8080/",
          "height": 66
        },
        "outputId": "ea424140-22a7-4b58-94a5-c7ff49767c0c"
      },
      "source": [
        "# Standard deviation method for Age\n",
        "age_mean = train['Age'].mean()\n",
        "age_std = train['Age'].std()\n",
        "age_3std_low = -3*age_std\n",
        "age_3std_high = 3*age_std\n",
        "\n",
        "age_mean\n",
        "age_std\n",
        "age_3std_low\n",
        "age_3std_high\n",
        "\n",
        "filt_outliers_train = train[(train['Age'] < age_3std_low) & (train['Age'] > age_3std_high)]\n",
        "filt_outliers_train.head()"
      ],
      "execution_count": 15,
      "outputs": [
        {
          "output_type": "execute_result",
          "data": {
            "text/plain": [
              "29.645219236209233"
            ]
          },
          "metadata": {
            "tags": []
          },
          "execution_count": 15
        },
        {
          "output_type": "execute_result",
          "data": {
            "text/plain": [
              "13.077539516985102"
            ]
          },
          "metadata": {
            "tags": []
          },
          "execution_count": 15
        },
        {
          "output_type": "execute_result",
          "data": {
            "text/plain": [
              "-39.23261855095531"
            ]
          },
          "metadata": {
            "tags": []
          },
          "execution_count": 15
        },
        {
          "output_type": "execute_result",
          "data": {
            "text/plain": [
              "39.23261855095531"
            ]
          },
          "metadata": {
            "tags": []
          },
          "execution_count": 15
        },
        {
          "output_type": "execute_result",
          "data": {
            "text/html": [
              "<div>\n",
              "<style scoped>\n",
              "    .dataframe tbody tr th:only-of-type {\n",
              "        vertical-align: middle;\n",
              "    }\n",
              "\n",
              "    .dataframe tbody tr th {\n",
              "        vertical-align: top;\n",
              "    }\n",
              "\n",
              "    .dataframe thead th {\n",
              "        text-align: right;\n",
              "    }\n",
              "</style>\n",
              "<table border=\"1\" class=\"dataframe\">\n",
              "  <thead>\n",
              "    <tr style=\"text-align: right;\">\n",
              "      <th></th>\n",
              "      <th>Survived</th>\n",
              "      <th>Pclass</th>\n",
              "      <th>Sex</th>\n",
              "      <th>Age</th>\n",
              "      <th>SibSp</th>\n",
              "      <th>Parch</th>\n",
              "      <th>Fare</th>\n",
              "      <th>Cabin</th>\n",
              "      <th>Embarked</th>\n",
              "    </tr>\n",
              "  </thead>\n",
              "  <tbody>\n",
              "  </tbody>\n",
              "</table>\n",
              "</div>"
            ],
            "text/plain": [
              "Empty DataFrame\n",
              "Columns: [Survived, Pclass, Sex, Age, SibSp, Parch, Fare, Cabin, Embarked]\n",
              "Index: []"
            ]
          },
          "metadata": {
            "tags": []
          },
          "execution_count": 15
        }
      ]
    },
    {
      "cell_type": "code",
      "metadata": {
        "id": "EQnm_qLBaGTq",
        "colab": {
          "base_uri": "https://localhost:8080/",
          "height": 66
        },
        "outputId": "5690d15f-f545-49c6-83cb-74ae89584d99"
      },
      "source": [
        "# Standard deviation method for Fare\n",
        "Fare_mean = train['Fare'].mean()\n",
        "Fare_std = train['Fare'].std()\n",
        "Fare_3std_low = -3*Fare_std\n",
        "Fare_3std_high = 3*Fare_std\n",
        "\n",
        "Fare_mean\n",
        "Fare_std\n",
        "Fare_3std_low\n",
        "Fare_3std_high\n",
        "\n",
        "filt_outliers_train = train[(train['Fare'] < Fare_3std_low) & (train['Fare'] > Fare_3std_high)]\n",
        "filt_outliers_train.head()"
      ],
      "execution_count": 16,
      "outputs": [
        {
          "output_type": "execute_result",
          "data": {
            "text/plain": [
              "32.75564988584471"
            ]
          },
          "metadata": {
            "tags": []
          },
          "execution_count": 16
        },
        {
          "output_type": "execute_result",
          "data": {
            "text/plain": [
              "49.93682576210329"
            ]
          },
          "metadata": {
            "tags": []
          },
          "execution_count": 16
        },
        {
          "output_type": "execute_result",
          "data": {
            "text/plain": [
              "-149.81047728630986"
            ]
          },
          "metadata": {
            "tags": []
          },
          "execution_count": 16
        },
        {
          "output_type": "execute_result",
          "data": {
            "text/plain": [
              "149.81047728630986"
            ]
          },
          "metadata": {
            "tags": []
          },
          "execution_count": 16
        },
        {
          "output_type": "execute_result",
          "data": {
            "text/html": [
              "<div>\n",
              "<style scoped>\n",
              "    .dataframe tbody tr th:only-of-type {\n",
              "        vertical-align: middle;\n",
              "    }\n",
              "\n",
              "    .dataframe tbody tr th {\n",
              "        vertical-align: top;\n",
              "    }\n",
              "\n",
              "    .dataframe thead th {\n",
              "        text-align: right;\n",
              "    }\n",
              "</style>\n",
              "<table border=\"1\" class=\"dataframe\">\n",
              "  <thead>\n",
              "    <tr style=\"text-align: right;\">\n",
              "      <th></th>\n",
              "      <th>Survived</th>\n",
              "      <th>Pclass</th>\n",
              "      <th>Sex</th>\n",
              "      <th>Age</th>\n",
              "      <th>SibSp</th>\n",
              "      <th>Parch</th>\n",
              "      <th>Fare</th>\n",
              "      <th>Cabin</th>\n",
              "      <th>Embarked</th>\n",
              "    </tr>\n",
              "  </thead>\n",
              "  <tbody>\n",
              "  </tbody>\n",
              "</table>\n",
              "</div>"
            ],
            "text/plain": [
              "Empty DataFrame\n",
              "Columns: [Survived, Pclass, Sex, Age, SibSp, Parch, Fare, Cabin, Embarked]\n",
              "Index: []"
            ]
          },
          "metadata": {
            "tags": []
          },
          "execution_count": 16
        }
      ]
    },
    {
      "cell_type": "code",
      "metadata": {
        "id": "GcFUkO6JaGTq"
      },
      "source": [
        "# IQR method\n",
        "def out_iqr(s, k=1.5, return_thresholds=False):\n",
        "    # calculate interquartile range\n",
        "    q25, q75 = np.percentile(s, 25), np.percentile(s, 75)\n",
        "    iqr = q75 - q25\n",
        "    # calculate the outlier cutoff\n",
        "    cut_off = iqr * k\n",
        "    lower, upper = q25 - cut_off, q75 + cut_off\n",
        "    print(lower, upper)\n",
        "    if return_thresholds:\n",
        "        return lower, upper\n",
        "    else: # identify outliers\n",
        "        return [True if x < lower or x > upper else False for x in s]"
      ],
      "execution_count": 17,
      "outputs": []
    },
    {
      "cell_type": "code",
      "metadata": {
        "id": "IEQIb3JSaGTq",
        "colab": {
          "base_uri": "https://localhost:8080/",
          "height": 286
        },
        "outputId": "8fd5c90a-81ef-48d0-8038-f9c41b379977"
      },
      "source": [
        "# IQR for Age\n",
        "train['outlier_age'] = out_iqr(train['Age'])\n",
        "train[train['outlier_age'] == True].shape\n",
        "\n",
        "# boxplot with 1.5 whiskers\n",
        "sns.boxplot(y='Age', data = train, whis=1.5)"
      ],
      "execution_count": 18,
      "outputs": [
        {
          "output_type": "stream",
          "text": [
            "2.5 54.5\n"
          ],
          "name": "stdout"
        },
        {
          "output_type": "execute_result",
          "data": {
            "text/plain": [
              "(66, 10)"
            ]
          },
          "metadata": {
            "tags": []
          },
          "execution_count": 18
        },
        {
          "output_type": "execute_result",
          "data": {
            "text/plain": [
              "<matplotlib.axes._subplots.AxesSubplot at 0x7fb74b59bf60>"
            ]
          },
          "metadata": {
            "tags": []
          },
          "execution_count": 18
        },
        {
          "output_type": "display_data",
          "data": {
            "image/png": "[encoded data removed]",
            "text/plain": [
              "<Figure size 432x288 with 1 Axes>"
            ]
          },
          "metadata": {
            "tags": [],
            "needs_background": "light"
          }
        }
      ]
    },
    {
      "cell_type": "code",
      "metadata": {
        "id": "IQ4gIDGKaGTq",
        "colab": {
          "base_uri": "https://localhost:8080/",
          "height": 286
        },
        "outputId": "04b8b68d-807f-4f1a-c22f-c6da809c29d9"
      },
      "source": [
        "# IQR for Fare\n",
        "train['outlier_Fare'] = out_iqr(train['Fare'])\n",
        "train[train['outlier_Fare'] == True].shape\n",
        "\n",
        "# boxplot with 1.5 whiskers\n",
        "sns.boxplot(y='Fare', data = train, whis=1.5)"
      ],
      "execution_count": 19,
      "outputs": [
        {
          "output_type": "stream",
          "text": [
            "-27.099999999999998 66.3\n"
          ],
          "name": "stdout"
        },
        {
          "output_type": "execute_result",
          "data": {
            "text/plain": [
              "(116, 11)"
            ]
          },
          "metadata": {
            "tags": []
          },
          "execution_count": 19
        },
        {
          "output_type": "execute_result",
          "data": {
            "text/plain": [
              "<matplotlib.axes._subplots.AxesSubplot at 0x7fb74723e898>"
            ]
          },
          "metadata": {
            "tags": []
          },
          "execution_count": 19
        },
        {
          "output_type": "display_data",
          "data": {
            "image/png": "[encoded data removed]",
            "text/plain": [
              "<Figure size 432x288 with 1 Axes>"
            ]
          },
          "metadata": {
            "tags": [],
            "needs_background": "light"
          }
        }
      ]
    },
    {
      "cell_type": "code",
      "metadata": {
        "id": "J1g5B68OaGTq",
        "colab": {
          "base_uri": "https://localhost:8080/",
          "height": 296
        },
        "outputId": "c45fbdc9-359a-4023-e993-f0b2c6383c0d"
      },
      "source": [
        "# multivariate outlier - fare and class in comparison\n",
        "sns.boxplot(x='Pclass', y='Fare', data = train, whis=1.5)"
      ],
      "execution_count": 20,
      "outputs": [
        {
          "output_type": "execute_result",
          "data": {
            "text/plain": [
              "<matplotlib.axes._subplots.AxesSubplot at 0x7fb746d8ea58>"
            ]
          },
          "metadata": {
            "tags": []
          },
          "execution_count": 20
        },
        {
          "output_type": "display_data",
          "data": {
            "image/png": "[encoded data removed]",
            "text/plain": [
              "<Figure size 432x288 with 1 Axes>"
            ]
          },
          "metadata": {
            "tags": [],
            "needs_background": "light"
          }
        }
      ]
    },
    {
      "cell_type": "code",
      "metadata": {
        "id": "PVtcvkaBaGTq",
        "colab": {
          "base_uri": "https://localhost:8080/"
        },
        "outputId": "53adeab8-08b3-42ae-e842-a60b119bf1f4"
      },
      "source": [
        "# Top coding\n",
        "train.loc[train.Fare>66.3,'Fare'] = 66.3\n",
        "\n",
        "# Bottom / Zero coding - no impact - refer only to the code\n",
        "train.loc[train.Fare<0,'Fare'] = 0\n",
        "\n",
        "train['Fare'].min()\n",
        "train['Fare'].max()"
      ],
      "execution_count": 21,
      "outputs": [
        {
          "output_type": "execute_result",
          "data": {
            "text/plain": [
              "4.0125"
            ]
          },
          "metadata": {
            "tags": []
          },
          "execution_count": 21
        },
        {
          "output_type": "execute_result",
          "data": {
            "text/plain": [
              "66.3"
            ]
          },
          "metadata": {
            "tags": []
          },
          "execution_count": 21
        }
      ]
    },
    {
      "cell_type": "code",
      "metadata": {
        "id": "6ZNQy0adaGTq",
        "colab": {
          "base_uri": "https://localhost:8080/"
        },
        "outputId": "af6ad026-9fe2-4ff5-8193-40d16ae6c4c8"
      },
      "source": [
        "# Equal width binning - width = (max value — min value) / N\n",
        "age_range = train.Age.max() - train.Age.min()\n",
        "min_value = int(np.floor(train.Age.min()))\n",
        "max_value = int(np.ceil(train.Age.max()))\n",
        " \n",
        "# let's round the bin width\n",
        "inter_value = int(np.round(age_range/10))\n",
        " \n",
        "min_value, max_value, inter_value"
      ],
      "execution_count": 22,
      "outputs": [
        {
          "output_type": "execute_result",
          "data": {
            "text/plain": [
              "(0, 80, 8)"
            ]
          },
          "metadata": {
            "tags": []
          },
          "execution_count": 22
        }
      ]
    },
    {
      "cell_type": "code",
      "metadata": {
        "id": "uI-hQKKHaGTq",
        "colab": {
          "base_uri": "https://localhost:8080/",
          "height": 334
        },
        "outputId": "fbfc8c0b-c0ac-4b26-f441-88715ba55da0"
      },
      "source": [
        "intervals = [i for i in range(min_value, max_value+inter_value, inter_value)]\n",
        "labels = ['Bin_'+str(i) for i in range(1,len(intervals))]\n",
        "print(intervals)\n",
        "print(labels)\n",
        "\n",
        "train['age_labels'] = pd.cut(x = train.Age, bins=intervals, labels=labels, include_lowest=True)\n",
        "train['age_interval'] = pd.cut(x = train.Age, bins=intervals, include_lowest=True)\n",
        "# data.head(5)\n",
        "\n",
        "sns.countplot(train.age_labels)"
      ],
      "execution_count": 23,
      "outputs": [
        {
          "output_type": "stream",
          "text": [
            "[0, 8, 16, 24, 32, 40, 48, 56, 64, 72, 80]\n",
            "['Bin_1', 'Bin_2', 'Bin_3', 'Bin_4', 'Bin_5', 'Bin_6', 'Bin_7', 'Bin_8', 'Bin_9', 'Bin_10']\n"
          ],
          "name": "stdout"
        },
        {
          "output_type": "execute_result",
          "data": {
            "text/plain": [
              "<matplotlib.axes._subplots.AxesSubplot at 0x7fb749aecba8>"
            ]
          },
          "metadata": {
            "tags": []
          },
          "execution_count": 23
        },
        {
          "output_type": "display_data",
          "data": {
            "image/png": "[encoded data removed]",
            "text/plain": [
              "<Figure size 432x288 with 1 Axes>"
            ]
          },
          "metadata": {
            "tags": [],
            "needs_background": "light"
          }
        }
      ]
    },
    {
      "cell_type": "code",
      "metadata": {
        "colab": {
          "base_uri": "https://localhost:8080/",
          "height": 419
        },
        "id": "QjLfjiQliLsV",
        "outputId": "0d3d1d66-3618-44c9-a337-4dbf305ea734"
      },
      "source": [
        "train"
      ],
      "execution_count": 24,
      "outputs": [
        {
          "output_type": "execute_result",
          "data": {
            "text/html": [
              "<div>\n",
              "<style scoped>\n",
              "    .dataframe tbody tr th:only-of-type {\n",
              "        vertical-align: middle;\n",
              "    }\n",
              "\n",
              "    .dataframe tbody tr th {\n",
              "        vertical-align: top;\n",
              "    }\n",
              "\n",
              "    .dataframe thead th {\n",
              "        text-align: right;\n",
              "    }\n",
              "</style>\n",
              "<table border=\"1\" class=\"dataframe\">\n",
              "  <thead>\n",
              "    <tr style=\"text-align: right;\">\n",
              "      <th></th>\n",
              "      <th>Survived</th>\n",
              "      <th>Pclass</th>\n",
              "      <th>Sex</th>\n",
              "      <th>Age</th>\n",
              "      <th>SibSp</th>\n",
              "      <th>Parch</th>\n",
              "      <th>Fare</th>\n",
              "      <th>Cabin</th>\n",
              "      <th>Embarked</th>\n",
              "      <th>outlier_age</th>\n",
              "      <th>outlier_Fare</th>\n",
              "      <th>age_labels</th>\n",
              "      <th>age_interval</th>\n",
              "    </tr>\n",
              "  </thead>\n",
              "  <tbody>\n",
              "    <tr>\n",
              "      <th>0</th>\n",
              "      <td>0</td>\n",
              "      <td>3</td>\n",
              "      <td>male</td>\n",
              "      <td>22.000000</td>\n",
              "      <td>1</td>\n",
              "      <td>0</td>\n",
              "      <td>7.250</td>\n",
              "      <td>NaN</td>\n",
              "      <td>S</td>\n",
              "      <td>False</td>\n",
              "      <td>False</td>\n",
              "      <td>Bin_3</td>\n",
              "      <td>(16.0, 24.0]</td>\n",
              "    </tr>\n",
              "    <tr>\n",
              "      <th>1</th>\n",
              "      <td>1</td>\n",
              "      <td>1</td>\n",
              "      <td>female</td>\n",
              "      <td>38.000000</td>\n",
              "      <td>1</td>\n",
              "      <td>0</td>\n",
              "      <td>66.300</td>\n",
              "      <td>C85</td>\n",
              "      <td>C</td>\n",
              "      <td>False</td>\n",
              "      <td>True</td>\n",
              "      <td>Bin_5</td>\n",
              "      <td>(32.0, 40.0]</td>\n",
              "    </tr>\n",
              "    <tr>\n",
              "      <th>2</th>\n",
              "      <td>1</td>\n",
              "      <td>3</td>\n",
              "      <td>female</td>\n",
              "      <td>26.000000</td>\n",
              "      <td>0</td>\n",
              "      <td>0</td>\n",
              "      <td>7.925</td>\n",
              "      <td>NaN</td>\n",
              "      <td>S</td>\n",
              "      <td>False</td>\n",
              "      <td>False</td>\n",
              "      <td>Bin_4</td>\n",
              "      <td>(24.0, 32.0]</td>\n",
              "    </tr>\n",
              "    <tr>\n",
              "      <th>3</th>\n",
              "      <td>1</td>\n",
              "      <td>1</td>\n",
              "      <td>female</td>\n",
              "      <td>35.000000</td>\n",
              "      <td>1</td>\n",
              "      <td>0</td>\n",
              "      <td>53.100</td>\n",
              "      <td>C123</td>\n",
              "      <td>S</td>\n",
              "      <td>False</td>\n",
              "      <td>False</td>\n",
              "      <td>Bin_5</td>\n",
              "      <td>(32.0, 40.0]</td>\n",
              "    </tr>\n",
              "    <tr>\n",
              "      <th>4</th>\n",
              "      <td>0</td>\n",
              "      <td>3</td>\n",
              "      <td>male</td>\n",
              "      <td>35.000000</td>\n",
              "      <td>0</td>\n",
              "      <td>0</td>\n",
              "      <td>8.050</td>\n",
              "      <td>NaN</td>\n",
              "      <td>S</td>\n",
              "      <td>False</td>\n",
              "      <td>False</td>\n",
              "      <td>Bin_5</td>\n",
              "      <td>(32.0, 40.0]</td>\n",
              "    </tr>\n",
              "    <tr>\n",
              "      <th>...</th>\n",
              "      <td>...</td>\n",
              "      <td>...</td>\n",
              "      <td>...</td>\n",
              "      <td>...</td>\n",
              "      <td>...</td>\n",
              "      <td>...</td>\n",
              "      <td>...</td>\n",
              "      <td>...</td>\n",
              "      <td>...</td>\n",
              "      <td>...</td>\n",
              "      <td>...</td>\n",
              "      <td>...</td>\n",
              "      <td>...</td>\n",
              "    </tr>\n",
              "    <tr>\n",
              "      <th>886</th>\n",
              "      <td>0</td>\n",
              "      <td>2</td>\n",
              "      <td>male</td>\n",
              "      <td>27.000000</td>\n",
              "      <td>0</td>\n",
              "      <td>0</td>\n",
              "      <td>13.000</td>\n",
              "      <td>NaN</td>\n",
              "      <td>S</td>\n",
              "      <td>False</td>\n",
              "      <td>False</td>\n",
              "      <td>Bin_4</td>\n",
              "      <td>(24.0, 32.0]</td>\n",
              "    </tr>\n",
              "    <tr>\n",
              "      <th>887</th>\n",
              "      <td>1</td>\n",
              "      <td>1</td>\n",
              "      <td>female</td>\n",
              "      <td>19.000000</td>\n",
              "      <td>0</td>\n",
              "      <td>0</td>\n",
              "      <td>30.000</td>\n",
              "      <td>B42</td>\n",
              "      <td>S</td>\n",
              "      <td>False</td>\n",
              "      <td>False</td>\n",
              "      <td>Bin_3</td>\n",
              "      <td>(16.0, 24.0]</td>\n",
              "    </tr>\n",
              "    <tr>\n",
              "      <th>888</th>\n",
              "      <td>0</td>\n",
              "      <td>3</td>\n",
              "      <td>female</td>\n",
              "      <td>29.645219</td>\n",
              "      <td>1</td>\n",
              "      <td>2</td>\n",
              "      <td>23.450</td>\n",
              "      <td>NaN</td>\n",
              "      <td>S</td>\n",
              "      <td>False</td>\n",
              "      <td>False</td>\n",
              "      <td>Bin_4</td>\n",
              "      <td>(24.0, 32.0]</td>\n",
              "    </tr>\n",
              "    <tr>\n",
              "      <th>889</th>\n",
              "      <td>1</td>\n",
              "      <td>1</td>\n",
              "      <td>male</td>\n",
              "      <td>26.000000</td>\n",
              "      <td>0</td>\n",
              "      <td>0</td>\n",
              "      <td>30.000</td>\n",
              "      <td>C148</td>\n",
              "      <td>C</td>\n",
              "      <td>False</td>\n",
              "      <td>False</td>\n",
              "      <td>Bin_4</td>\n",
              "      <td>(24.0, 32.0]</td>\n",
              "    </tr>\n",
              "    <tr>\n",
              "      <th>890</th>\n",
              "      <td>0</td>\n",
              "      <td>3</td>\n",
              "      <td>male</td>\n",
              "      <td>32.000000</td>\n",
              "      <td>0</td>\n",
              "      <td>0</td>\n",
              "      <td>7.750</td>\n",
              "      <td>NaN</td>\n",
              "      <td>Q</td>\n",
              "      <td>False</td>\n",
              "      <td>False</td>\n",
              "      <td>Bin_4</td>\n",
              "      <td>(24.0, 32.0]</td>\n",
              "    </tr>\n",
              "  </tbody>\n",
              "</table>\n",
              "<p>876 rows × 13 columns</p>\n",
              "</div>"
            ],
            "text/plain": [
              "     Survived  Pclass     Sex  ...  outlier_Fare  age_labels  age_interval\n",
              "0           0       3    male  ...         False       Bin_3  (16.0, 24.0]\n",
              "1           1       1  female  ...          True       Bin_5  (32.0, 40.0]\n",
              "2           1       3  female  ...         False       Bin_4  (24.0, 32.0]\n",
              "3           1       1  female  ...         False       Bin_5  (32.0, 40.0]\n",
              "4           0       3    male  ...         False       Bin_5  (32.0, 40.0]\n",
              "..        ...     ...     ...  ...           ...         ...           ...\n",
              "886         0       2    male  ...         False       Bin_4  (24.0, 32.0]\n",
              "887         1       1  female  ...         False       Bin_3  (16.0, 24.0]\n",
              "888         0       3  female  ...         False       Bin_4  (24.0, 32.0]\n",
              "889         1       1    male  ...         False       Bin_4  (24.0, 32.0]\n",
              "890         0       3    male  ...         False       Bin_4  (24.0, 32.0]\n",
              "\n",
              "[876 rows x 13 columns]"
            ]
          },
          "metadata": {
            "tags": []
          },
          "execution_count": 24
        }
      ]
    },
    {
      "cell_type": "markdown",
      "metadata": {
        "id": "E5S0VpyJaGTq"
      },
      "source": [
        "## Class imbalance example "
      ]
    },
    {
      "cell_type": "code",
      "metadata": {
        "id": "7dSX8xpVaGTq",
        "colab": {
          "base_uri": "https://localhost:8080/",
          "height": 392
        },
        "outputId": "ed5177d4-aa46-4a5f-f520-ded81ef3d40b"
      },
      "source": [
        "# importing the fraud dataset\n",
        "fraud_data = pd.read_csv(\"imbalanced_classes/fraud_data.csv\")"
      ],
      "execution_count": 25,
      "outputs": [
        {
          "output_type": "error",
          "ename": "FileNotFoundError",
          "evalue": "ignored",
          "traceback": [
            "\u001b[0;31m---------------------------------------------------------------------------\u001b[0m",
            "\u001b[0;31mFileNotFoundError\u001b[0m                         Traceback (most recent call last)",
            "\u001b[0;32m<ipython-input-25-4d952403cc82>\u001b[0m in \u001b[0;36m<module>\u001b[0;34m()\u001b[0m\n\u001b[1;32m      1\u001b[0m \u001b[0;31m# importing the fraud dataset\u001b[0m\u001b[0;34m\u001b[0m\u001b[0;34m\u001b[0m\u001b[0;34m\u001b[0m\u001b[0m\n\u001b[0;32m----> 2\u001b[0;31m \u001b[0mfraud_data\u001b[0m \u001b[0;34m=\u001b[0m \u001b[0mpd\u001b[0m\u001b[0;34m.\u001b[0m\u001b[0mread_csv\u001b[0m\u001b[0;34m(\u001b[0m\u001b[0;34m\"imbalanced_classes/fraud_data.csv\"\u001b[0m\u001b[0;34m)\u001b[0m\u001b[0;34m\u001b[0m\u001b[0;34m\u001b[0m\u001b[0m\n\u001b[0m",
            "\u001b[0;32m/usr/local/lib/python3.6/dist-packages/pandas/io/parsers.py\u001b[0m in \u001b[0;36mread_csv\u001b[0;34m(filepath_or_buffer, sep, delimiter, header, names, index_col, usecols, squeeze, prefix, mangle_dupe_cols, dtype, engine, converters, true_values, false_values, skipinitialspace, skiprows, skipfooter, nrows, na_values, keep_default_na, na_filter, verbose, skip_blank_lines, parse_dates, infer_datetime_format, keep_date_col, date_parser, dayfirst, cache_dates, iterator, chunksize, compression, thousands, decimal, lineterminator, quotechar, quoting, doublequote, escapechar, comment, encoding, dialect, error_bad_lines, warn_bad_lines, delim_whitespace, low_memory, memory_map, float_precision)\u001b[0m\n\u001b[1;32m    686\u001b[0m     )\n\u001b[1;32m    687\u001b[0m \u001b[0;34m\u001b[0m\u001b[0m\n\u001b[0;32m--> 688\u001b[0;31m     \u001b[0;32mreturn\u001b[0m \u001b[0m_read\u001b[0m\u001b[0;34m(\u001b[0m\u001b[0mfilepath_or_buffer\u001b[0m\u001b[0;34m,\u001b[0m \u001b[0mkwds\u001b[0m\u001b[0;34m)\u001b[0m\u001b[0;34m\u001b[0m\u001b[0;34m\u001b[0m\u001b[0m\n\u001b[0m\u001b[1;32m    689\u001b[0m \u001b[0;34m\u001b[0m\u001b[0m\n\u001b[1;32m    690\u001b[0m \u001b[0;34m\u001b[0m\u001b[0m\n",
            "\u001b[0;32m/usr/local/lib/python3.6/dist-packages/pandas/io/parsers.py\u001b[0m in \u001b[0;36m_read\u001b[0;34m(filepath_or_buffer, kwds)\u001b[0m\n\u001b[1;32m    452\u001b[0m \u001b[0;34m\u001b[0m\u001b[0m\n\u001b[1;32m    453\u001b[0m     \u001b[0;31m# Create the parser.\u001b[0m\u001b[0;34m\u001b[0m\u001b[0;34m\u001b[0m\u001b[0;34m\u001b[0m\u001b[0m\n\u001b[0;32m--> 454\u001b[0;31m     \u001b[0mparser\u001b[0m \u001b[0;34m=\u001b[0m \u001b[0mTextFileReader\u001b[0m\u001b[0;34m(\u001b[0m\u001b[0mfp_or_buf\u001b[0m\u001b[0;34m,\u001b[0m \u001b[0;34m**\u001b[0m\u001b[0mkwds\u001b[0m\u001b[0;34m)\u001b[0m\u001b[0;34m\u001b[0m\u001b[0;34m\u001b[0m\u001b[0m\n\u001b[0m\u001b[1;32m    455\u001b[0m \u001b[0;34m\u001b[0m\u001b[0m\n\u001b[1;32m    456\u001b[0m     \u001b[0;32mif\u001b[0m \u001b[0mchunksize\u001b[0m \u001b[0;32mor\u001b[0m \u001b[0miterator\u001b[0m\u001b[0;34m:\u001b[0m\u001b[0;34m\u001b[0m\u001b[0;34m\u001b[0m\u001b[0m\n",
            "\u001b[0;32m/usr/local/lib/python3.6/dist-packages/pandas/io/parsers.py\u001b[0m in \u001b[0;36m__init__\u001b[0;34m(self, f, engine, **kwds)\u001b[0m\n\u001b[1;32m    946\u001b[0m             \u001b[0mself\u001b[0m\u001b[0;34m.\u001b[0m\u001b[0moptions\u001b[0m\u001b[0;34m[\u001b[0m\u001b[0;34m\"has_index_names\"\u001b[0m\u001b[0;34m]\u001b[0m \u001b[0;34m=\u001b[0m \u001b[0mkwds\u001b[0m\u001b[0;34m[\u001b[0m\u001b[0;34m\"has_index_names\"\u001b[0m\u001b[0;34m]\u001b[0m\u001b[0;34m\u001b[0m\u001b[0;34m\u001b[0m\u001b[0m\n\u001b[1;32m    947\u001b[0m \u001b[0;34m\u001b[0m\u001b[0m\n\u001b[0;32m--> 948\u001b[0;31m         \u001b[0mself\u001b[0m\u001b[0;34m.\u001b[0m\u001b[0m_make_engine\u001b[0m\u001b[0;34m(\u001b[0m\u001b[0mself\u001b[0m\u001b[0;34m.\u001b[0m\u001b[0mengine\u001b[0m\u001b[0;34m)\u001b[0m\u001b[0;34m\u001b[0m\u001b[0;34m\u001b[0m\u001b[0m\n\u001b[0m\u001b[1;32m    949\u001b[0m \u001b[0;34m\u001b[0m\u001b[0m\n\u001b[1;32m    950\u001b[0m     \u001b[0;32mdef\u001b[0m \u001b[0mclose\u001b[0m\u001b[0;34m(\u001b[0m\u001b[0mself\u001b[0m\u001b[0;34m)\u001b[0m\u001b[0;34m:\u001b[0m\u001b[0;34m\u001b[0m\u001b[0;34m\u001b[0m\u001b[0m\n",
            "\u001b[0;32m/usr/local/lib/python3.6/dist-packages/pandas/io/parsers.py\u001b[0m in \u001b[0;36m_make_engine\u001b[0;34m(self, engine)\u001b[0m\n\u001b[1;32m   1178\u001b[0m     \u001b[0;32mdef\u001b[0m \u001b[0m_make_engine\u001b[0m\u001b[0;34m(\u001b[0m\u001b[0mself\u001b[0m\u001b[0;34m,\u001b[0m \u001b[0mengine\u001b[0m\u001b[0;34m=\u001b[0m\u001b[0;34m\"c\"\u001b[0m\u001b[0;34m)\u001b[0m\u001b[0;34m:\u001b[0m\u001b[0;34m\u001b[0m\u001b[0;34m\u001b[0m\u001b[0m\n\u001b[1;32m   1179\u001b[0m         \u001b[0;32mif\u001b[0m \u001b[0mengine\u001b[0m \u001b[0;34m==\u001b[0m \u001b[0;34m\"c\"\u001b[0m\u001b[0;34m:\u001b[0m\u001b[0;34m\u001b[0m\u001b[0;34m\u001b[0m\u001b[0m\n\u001b[0;32m-> 1180\u001b[0;31m             \u001b[0mself\u001b[0m\u001b[0;34m.\u001b[0m\u001b[0m_engine\u001b[0m \u001b[0;34m=\u001b[0m \u001b[0mCParserWrapper\u001b[0m\u001b[0;34m(\u001b[0m\u001b[0mself\u001b[0m\u001b[0;34m.\u001b[0m\u001b[0mf\u001b[0m\u001b[0;34m,\u001b[0m \u001b[0;34m**\u001b[0m\u001b[0mself\u001b[0m\u001b[0;34m.\u001b[0m\u001b[0moptions\u001b[0m\u001b[0;34m)\u001b[0m\u001b[0;34m\u001b[0m\u001b[0;34m\u001b[0m\u001b[0m\n\u001b[0m\u001b[1;32m   1181\u001b[0m         \u001b[0;32melse\u001b[0m\u001b[0;34m:\u001b[0m\u001b[0;34m\u001b[0m\u001b[0;34m\u001b[0m\u001b[0m\n\u001b[1;32m   1182\u001b[0m             \u001b[0;32mif\u001b[0m \u001b[0mengine\u001b[0m \u001b[0;34m==\u001b[0m \u001b[0;34m\"python\"\u001b[0m\u001b[0;34m:\u001b[0m\u001b[0;34m\u001b[0m\u001b[0;34m\u001b[0m\u001b[0m\n",
            "\u001b[0;32m/usr/local/lib/python3.6/dist-packages/pandas/io/parsers.py\u001b[0m in \u001b[0;36m__init__\u001b[0;34m(self, src, **kwds)\u001b[0m\n\u001b[1;32m   2008\u001b[0m         \u001b[0mkwds\u001b[0m\u001b[0;34m[\u001b[0m\u001b[0;34m\"usecols\"\u001b[0m\u001b[0;34m]\u001b[0m \u001b[0;34m=\u001b[0m \u001b[0mself\u001b[0m\u001b[0;34m.\u001b[0m\u001b[0musecols\u001b[0m\u001b[0;34m\u001b[0m\u001b[0;34m\u001b[0m\u001b[0m\n\u001b[1;32m   2009\u001b[0m \u001b[0;34m\u001b[0m\u001b[0m\n\u001b[0;32m-> 2010\u001b[0;31m         \u001b[0mself\u001b[0m\u001b[0;34m.\u001b[0m\u001b[0m_reader\u001b[0m \u001b[0;34m=\u001b[0m \u001b[0mparsers\u001b[0m\u001b[0;34m.\u001b[0m\u001b[0mTextReader\u001b[0m\u001b[0;34m(\u001b[0m\u001b[0msrc\u001b[0m\u001b[0;34m,\u001b[0m \u001b[0;34m**\u001b[0m\u001b[0mkwds\u001b[0m\u001b[0;34m)\u001b[0m\u001b[0;34m\u001b[0m\u001b[0;34m\u001b[0m\u001b[0m\n\u001b[0m\u001b[1;32m   2011\u001b[0m         \u001b[0mself\u001b[0m\u001b[0;34m.\u001b[0m\u001b[0munnamed_cols\u001b[0m \u001b[0;34m=\u001b[0m \u001b[0mself\u001b[0m\u001b[0;34m.\u001b[0m\u001b[0m_reader\u001b[0m\u001b[0;34m.\u001b[0m\u001b[0munnamed_cols\u001b[0m\u001b[0;34m\u001b[0m\u001b[0;34m\u001b[0m\u001b[0m\n\u001b[1;32m   2012\u001b[0m \u001b[0;34m\u001b[0m\u001b[0m\n",
            "\u001b[0;32mpandas/_libs/parsers.pyx\u001b[0m in \u001b[0;36mpandas._libs.parsers.TextReader.__cinit__\u001b[0;34m()\u001b[0m\n",
            "\u001b[0;32mpandas/_libs/parsers.pyx\u001b[0m in \u001b[0;36mpandas._libs.parsers.TextReader._setup_parser_source\u001b[0;34m()\u001b[0m\n",
            "\u001b[0;31mFileNotFoundError\u001b[0m: [Errno 2] No such file or directory: 'imbalanced_classes/fraud_data.csv'"
          ]
        }
      ]
    },
    {
      "cell_type": "code",
      "metadata": {
        "id": "mNgFnBKlaGTq",
        "outputId": "dae85b73-76b5-4dc0-e0b1-70580c2426fc"
      },
      "source": [
        "# take a look at the data\n",
        "fraud_data.shape\n",
        "fraud_data.head()"
      ],
      "execution_count": null,
      "outputs": [
        {
          "output_type": "execute_result",
          "data": {
            "text/plain": [
              "(59054, 434)"
            ]
          },
          "metadata": {
            "tags": []
          },
          "execution_count": 25
        },
        {
          "output_type": "execute_result",
          "data": {
            "text/html": [
              "<div>\n",
              "<style scoped>\n",
              "    .dataframe tbody tr th:only-of-type {\n",
              "        vertical-align: middle;\n",
              "    }\n",
              "\n",
              "    .dataframe tbody tr th {\n",
              "        vertical-align: top;\n",
              "    }\n",
              "\n",
              "    .dataframe thead th {\n",
              "        text-align: right;\n",
              "    }\n",
              "</style>\n",
              "<table border=\"1\" class=\"dataframe\">\n",
              "  <thead>\n",
              "    <tr style=\"text-align: right;\">\n",
              "      <th></th>\n",
              "      <th>TransactionID</th>\n",
              "      <th>isFraud</th>\n",
              "      <th>TransactionDT</th>\n",
              "      <th>TransactionAmt</th>\n",
              "      <th>ProductCD</th>\n",
              "      <th>card1</th>\n",
              "      <th>card2</th>\n",
              "      <th>card3</th>\n",
              "      <th>card4</th>\n",
              "      <th>card5</th>\n",
              "      <th>...</th>\n",
              "      <th>id_31</th>\n",
              "      <th>id_32</th>\n",
              "      <th>id_33</th>\n",
              "      <th>id_34</th>\n",
              "      <th>id_35</th>\n",
              "      <th>id_36</th>\n",
              "      <th>id_37</th>\n",
              "      <th>id_38</th>\n",
              "      <th>DeviceType</th>\n",
              "      <th>DeviceInfo</th>\n",
              "    </tr>\n",
              "  </thead>\n",
              "  <tbody>\n",
              "    <tr>\n",
              "      <th>0</th>\n",
              "      <td>2994681</td>\n",
              "      <td>0</td>\n",
              "      <td>242834</td>\n",
              "      <td>25.000</td>\n",
              "      <td>H</td>\n",
              "      <td>9803</td>\n",
              "      <td>583.0</td>\n",
              "      <td>150.0</td>\n",
              "      <td>visa</td>\n",
              "      <td>226.0</td>\n",
              "      <td>...</td>\n",
              "      <td>firefox 56.0</td>\n",
              "      <td>24.0</td>\n",
              "      <td>1920x1080</td>\n",
              "      <td>match_status:2</td>\n",
              "      <td>T</td>\n",
              "      <td>F</td>\n",
              "      <td>T</td>\n",
              "      <td>T</td>\n",
              "      <td>desktop</td>\n",
              "      <td>rv:56.0</td>\n",
              "    </tr>\n",
              "    <tr>\n",
              "      <th>1</th>\n",
              "      <td>3557242</td>\n",
              "      <td>0</td>\n",
              "      <td>15123000</td>\n",
              "      <td>117.000</td>\n",
              "      <td>W</td>\n",
              "      <td>7919</td>\n",
              "      <td>194.0</td>\n",
              "      <td>150.0</td>\n",
              "      <td>mastercard</td>\n",
              "      <td>166.0</td>\n",
              "      <td>...</td>\n",
              "      <td>NaN</td>\n",
              "      <td>NaN</td>\n",
              "      <td>NaN</td>\n",
              "      <td>NaN</td>\n",
              "      <td>NaN</td>\n",
              "      <td>NaN</td>\n",
              "      <td>NaN</td>\n",
              "      <td>NaN</td>\n",
              "      <td>NaN</td>\n",
              "      <td>NaN</td>\n",
              "    </tr>\n",
              "    <tr>\n",
              "      <th>2</th>\n",
              "      <td>3327470</td>\n",
              "      <td>0</td>\n",
              "      <td>8378575</td>\n",
              "      <td>73.773</td>\n",
              "      <td>C</td>\n",
              "      <td>12778</td>\n",
              "      <td>500.0</td>\n",
              "      <td>185.0</td>\n",
              "      <td>mastercard</td>\n",
              "      <td>224.0</td>\n",
              "      <td>...</td>\n",
              "      <td>NaN</td>\n",
              "      <td>NaN</td>\n",
              "      <td>NaN</td>\n",
              "      <td>NaN</td>\n",
              "      <td>NaN</td>\n",
              "      <td>NaN</td>\n",
              "      <td>NaN</td>\n",
              "      <td>NaN</td>\n",
              "      <td>NaN</td>\n",
              "      <td>NaN</td>\n",
              "    </tr>\n",
              "    <tr>\n",
              "      <th>3</th>\n",
              "      <td>3118781</td>\n",
              "      <td>0</td>\n",
              "      <td>2607840</td>\n",
              "      <td>400.000</td>\n",
              "      <td>R</td>\n",
              "      <td>12316</td>\n",
              "      <td>548.0</td>\n",
              "      <td>150.0</td>\n",
              "      <td>visa</td>\n",
              "      <td>195.0</td>\n",
              "      <td>...</td>\n",
              "      <td>mobile safari generic</td>\n",
              "      <td>32.0</td>\n",
              "      <td>1136x640</td>\n",
              "      <td>match_status:2</td>\n",
              "      <td>T</td>\n",
              "      <td>F</td>\n",
              "      <td>T</td>\n",
              "      <td>F</td>\n",
              "      <td>mobile</td>\n",
              "      <td>iOS Device</td>\n",
              "    </tr>\n",
              "    <tr>\n",
              "      <th>4</th>\n",
              "      <td>3459772</td>\n",
              "      <td>0</td>\n",
              "      <td>12226544</td>\n",
              "      <td>31.950</td>\n",
              "      <td>W</td>\n",
              "      <td>9002</td>\n",
              "      <td>453.0</td>\n",
              "      <td>150.0</td>\n",
              "      <td>visa</td>\n",
              "      <td>226.0</td>\n",
              "      <td>...</td>\n",
              "      <td>NaN</td>\n",
              "      <td>NaN</td>\n",
              "      <td>NaN</td>\n",
              "      <td>NaN</td>\n",
              "      <td>NaN</td>\n",
              "      <td>NaN</td>\n",
              "      <td>NaN</td>\n",
              "      <td>NaN</td>\n",
              "      <td>NaN</td>\n",
              "      <td>NaN</td>\n",
              "    </tr>\n",
              "  </tbody>\n",
              "</table>\n",
              "<p>5 rows × 434 columns</p>\n",
              "</div>"
            ],
            "text/plain": [
              "   TransactionID  isFraud  TransactionDT  TransactionAmt ProductCD  card1  \\\n",
              "0        2994681        0         242834          25.000         H   9803   \n",
              "1        3557242        0       15123000         117.000         W   7919   \n",
              "2        3327470        0        8378575          73.773         C  12778   \n",
              "3        3118781        0        2607840         400.000         R  12316   \n",
              "4        3459772        0       12226544          31.950         W   9002   \n",
              "\n",
              "   card2  card3       card4  card5  ...                  id_31  id_32  \\\n",
              "0  583.0  150.0        visa  226.0  ...           firefox 56.0   24.0   \n",
              "1  194.0  150.0  mastercard  166.0  ...                    NaN    NaN   \n",
              "2  500.0  185.0  mastercard  224.0  ...                    NaN    NaN   \n",
              "3  548.0  150.0        visa  195.0  ...  mobile safari generic   32.0   \n",
              "4  453.0  150.0        visa  226.0  ...                    NaN    NaN   \n",
              "\n",
              "       id_33           id_34  id_35 id_36 id_37  id_38  DeviceType  DeviceInfo  \n",
              "0  1920x1080  match_status:2      T     F     T      T     desktop     rv:56.0  \n",
              "1        NaN             NaN    NaN   NaN   NaN    NaN         NaN         NaN  \n",
              "2        NaN             NaN    NaN   NaN   NaN    NaN         NaN         NaN  \n",
              "3   1136x640  match_status:2      T     F     T      F      mobile  iOS Device  \n",
              "4        NaN             NaN    NaN   NaN   NaN    NaN         NaN         NaN  \n",
              "\n",
              "[5 rows x 434 columns]"
            ]
          },
          "metadata": {
            "tags": []
          },
          "execution_count": 25
        }
      ]
    },
    {
      "cell_type": "code",
      "metadata": {
        "id": "Ip3i5H7qaGTq",
        "outputId": "843be5aa-d2e1-483f-86b2-eafcfc8883ef"
      },
      "source": [
        "# Taking a look at the target variable\n",
        "fraud_data.isFraud.value_counts()\n",
        "fraud_data.isFraud.value_counts(normalize=True) * 100\n",
        "sns.countplot(fraud_data.isFraud)"
      ],
      "execution_count": null,
      "outputs": [
        {
          "output_type": "execute_result",
          "data": {
            "text/plain": [
              "0    57049\n",
              "1     2005\n",
              "Name: isFraud, dtype: int64"
            ]
          },
          "metadata": {
            "tags": []
          },
          "execution_count": 26
        },
        {
          "output_type": "execute_result",
          "data": {
            "text/plain": [
              "0    96.604802\n",
              "1     3.395198\n",
              "Name: isFraud, dtype: float64"
            ]
          },
          "metadata": {
            "tags": []
          },
          "execution_count": 26
        },
        {
          "output_type": "execute_result",
          "data": {
            "text/plain": [
              "<matplotlib.axes._subplots.AxesSubplot at 0x1e9897f4640>"
            ]
          },
          "metadata": {
            "tags": []
          },
          "execution_count": 26
        },
        {
          "output_type": "display_data",
          "data": {
            "image/png": "[encoded data removed]",
            "text/plain": [
              "<Figure size 432x288 with 1 Axes>"
            ]
          },
          "metadata": {
            "tags": [],
            "needs_background": "light"
          }
        }
      ]
    },
    {
      "cell_type": "code",
      "metadata": {
        "id": "DQO0OD72aGTq",
        "outputId": "3d7c859e-a0fe-479d-90fb-e267a160fa12"
      },
      "source": [
        "# Missing values\n",
        "fraud_data.isnull().sum() / len(fraud_data) * 100   # To get percentage of missing data in each column\n",
        "\n",
        "# # Will keep those columns which has missing values less than 20%\n",
        "# fraud_data = fraud_data[fraud_data.columns[fraud_data.isnull().mean() < 0.2]]\n",
        "\n",
        "# filling missing values of numerical columns with mean value.\n",
        "num_cols = fraud_data.select_dtypes(include=np.number).columns      # getting all the numerical columns\n",
        "fraud_data[num_cols] = fraud_data[num_cols].fillna(fraud_data[num_cols].mean())   # fills the missing values with mean\n",
        "\n",
        "# getting all the categorical columns\n",
        "cat_cols = fraud_data.select_dtypes(include = 'object').columns    \n",
        "\n",
        "# fills the missing values with maximum occuring element in the column\n",
        "fraud_data[cat_cols] = fraud_data[cat_cols].fillna(fraud_data[cat_cols].mode().iloc[0]) "
      ],
      "execution_count": null,
      "outputs": [
        {
          "output_type": "execute_result",
          "data": {
            "text/plain": [
              "TransactionID      0.000000\n",
              "isFraud            0.000000\n",
              "TransactionDT      0.000000\n",
              "TransactionAmt     0.000000\n",
              "ProductCD          0.000000\n",
              "card1              0.000000\n",
              "card2              1.549429\n",
              "card3              0.267552\n",
              "card4              0.274325\n",
              "card5              0.751854\n",
              "card6              0.269245\n",
              "addr1             11.392962\n",
              "addr2             11.392962\n",
              "dist1             59.865547\n",
              "dist2             93.443289\n",
              "P_emaildomain     15.934568\n",
              "R_emaildomain     76.572290\n",
              "C1                 0.000000\n",
              "C2                 0.000000\n",
              "C3                 0.000000\n",
              "C4                 0.000000\n",
              "C5                 0.000000\n",
              "C6                 0.000000\n",
              "C7                 0.000000\n",
              "C8                 0.000000\n",
              "C9                 0.000000\n",
              "C10                0.000000\n",
              "C11                0.000000\n",
              "C12                0.000000\n",
              "C13                0.000000\n",
              "C14                0.000000\n",
              "D1                 0.204897\n",
              "D2                47.336336\n",
              "D3                44.391574\n",
              "D4                28.526433\n",
              "D5                52.458767\n",
              "D6                87.433535\n",
              "D7                93.316287\n",
              "D8                87.210011\n",
              "D9                87.210011\n",
              "D10               12.767975\n",
              "D11               47.671623\n",
              "D12               88.857656\n",
              "D13               89.291157\n",
              "D14               89.303011\n",
              "D15               15.189488\n",
              "M1                46.261049\n",
              "M2                46.261049\n",
              "M3                46.261049\n",
              "M4                47.427778\n",
              "M5                59.340604\n",
              "M6                28.946388\n",
              "M7                58.896942\n",
              "M8                58.893555\n",
              "M9                58.893555\n",
              "V1                47.671623\n",
              "V2                47.671623\n",
              "V3                47.671623\n",
              "V4                47.671623\n",
              "V5                47.671623\n",
              "V6                47.671623\n",
              "V7                47.671623\n",
              "V8                47.671623\n",
              "V9                47.671623\n",
              "V10               47.671623\n",
              "V11               47.671623\n",
              "V12               12.776442\n",
              "V13               12.776442\n",
              "V14               12.776442\n",
              "V15               12.776442\n",
              "V16               12.776442\n",
              "V17               12.776442\n",
              "V18               12.776442\n",
              "V19               12.776442\n",
              "V20               12.776442\n",
              "V21               12.776442\n",
              "V22               12.776442\n",
              "V23               12.776442\n",
              "V24               12.776442\n",
              "V25               12.776442\n",
              "V26               12.776442\n",
              "V27               12.776442\n",
              "V28               12.776442\n",
              "V29               12.776442\n",
              "V30               12.776442\n",
              "V31               12.776442\n",
              "V32               12.776442\n",
              "V33               12.776442\n",
              "V34               12.776442\n",
              "V35               28.536594\n",
              "V36               28.536594\n",
              "V37               28.536594\n",
              "V38               28.536594\n",
              "V39               28.536594\n",
              "V40               28.536594\n",
              "V41               28.536594\n",
              "V42               28.536594\n",
              "V43               28.536594\n",
              "V44               28.536594\n",
              "V45               28.536594\n",
              "V46               28.536594\n",
              "V47               28.536594\n",
              "V48               28.536594\n",
              "V49               28.536594\n",
              "V50               28.536594\n",
              "V51               28.536594\n",
              "V52               28.536594\n",
              "V53               13.006740\n",
              "V54               13.006740\n",
              "V55               13.006740\n",
              "V56               13.006740\n",
              "V57               13.006740\n",
              "V58               13.006740\n",
              "V59               13.006740\n",
              "V60               13.006740\n",
              "V61               13.006740\n",
              "V62               13.006740\n",
              "V63               13.006740\n",
              "V64               13.006740\n",
              "V65               13.006740\n",
              "V66               13.006740\n",
              "V67               13.006740\n",
              "V68               13.006740\n",
              "V69               13.006740\n",
              "V70               13.006740\n",
              "V71               13.006740\n",
              "V72               13.006740\n",
              "V73               13.006740\n",
              "V74               13.006740\n",
              "V75               15.197954\n",
              "V76               15.197954\n",
              "V77               15.197954\n",
              "V78               15.197954\n",
              "V79               15.197954\n",
              "V80               15.197954\n",
              "V81               15.197954\n",
              "V82               15.197954\n",
              "V83               15.197954\n",
              "V84               15.197954\n",
              "V85               15.197954\n",
              "V86               15.197954\n",
              "V87               15.197954\n",
              "V88               15.197954\n",
              "V89               15.197954\n",
              "V90               15.197954\n",
              "V91               15.197954\n",
              "V92               15.197954\n",
              "V93               15.197954\n",
              "V94               15.197954\n",
              "V95                0.057574\n",
              "V96                0.057574\n",
              "V97                0.057574\n",
              "V98                0.057574\n",
              "V99                0.057574\n",
              "V100               0.057574\n",
              "V101               0.057574\n",
              "V102               0.057574\n",
              "V103               0.057574\n",
              "V104               0.057574\n",
              "V105               0.057574\n",
              "V106               0.057574\n",
              "V107               0.057574\n",
              "V108               0.057574\n",
              "V109               0.057574\n",
              "V110               0.057574\n",
              "V111               0.057574\n",
              "V112               0.057574\n",
              "V113               0.057574\n",
              "V114               0.057574\n",
              "V115               0.057574\n",
              "V116               0.057574\n",
              "V117               0.057574\n",
              "V118               0.057574\n",
              "V119               0.057574\n",
              "V120               0.057574\n",
              "V121               0.057574\n",
              "V122               0.057574\n",
              "V123               0.057574\n",
              "V124               0.057574\n",
              "V125               0.057574\n",
              "V126               0.057574\n",
              "V127               0.057574\n",
              "V128               0.057574\n",
              "V129               0.057574\n",
              "V130               0.057574\n",
              "V131               0.057574\n",
              "V132               0.057574\n",
              "V133               0.057574\n",
              "V134               0.057574\n",
              "V135               0.057574\n",
              "V136               0.057574\n",
              "V137               0.057574\n",
              "V138              86.171978\n",
              "V139              86.171978\n",
              "V140              86.171978\n",
              "V141              86.171978\n",
              "V142              86.171978\n",
              "V143              86.171978\n",
              "V144              86.171978\n",
              "V145              86.171978\n",
              "V146              86.171978\n",
              "V147              86.171978\n",
              "V148              86.171978\n",
              "V149              86.171978\n",
              "V150              86.171978\n",
              "V151              86.171978\n",
              "V152              86.171978\n",
              "V153              86.171978\n",
              "V154              86.171978\n",
              "V155              86.171978\n",
              "V156              86.171978\n",
              "V157              86.171978\n",
              "V158              86.171978\n",
              "V159              86.171978\n",
              "V160              86.171978\n",
              "V161              86.171978\n",
              "V162              86.171978\n",
              "V163              86.171978\n",
              "V164              86.171978\n",
              "V165              86.171978\n",
              "V166              86.171978\n",
              "V167              76.196363\n",
              "V168              76.196363\n",
              "V169              76.170962\n",
              "V170              76.170962\n",
              "V171              76.170962\n",
              "V172              76.196363\n",
              "V173              76.196363\n",
              "V174              76.170962\n",
              "V175              76.170962\n",
              "V176              76.196363\n",
              "V177              76.196363\n",
              "V178              76.196363\n",
              "V179              76.196363\n",
              "V180              76.170962\n",
              "V181              76.196363\n",
              "V182              76.196363\n",
              "V183              76.196363\n",
              "V184              76.170962\n",
              "V185              76.170962\n",
              "V186              76.196363\n",
              "V187              76.196363\n",
              "V188              76.170962\n",
              "V189              76.170962\n",
              "V190              76.196363\n",
              "V191              76.196363\n",
              "V192              76.196363\n",
              "V193              76.196363\n",
              "V194              76.170962\n",
              "V195              76.170962\n",
              "V196              76.196363\n",
              "V197              76.170962\n",
              "V198              76.170962\n",
              "V199              76.196363\n",
              "V200              76.170962\n",
              "V201              76.170962\n",
              "V202              76.196363\n",
              "V203              76.196363\n",
              "V204              76.196363\n",
              "V205              76.196363\n",
              "V206              76.196363\n",
              "V207              76.196363\n",
              "V208              76.170962\n",
              "V209              76.170962\n",
              "V210              76.170962\n",
              "V211              76.196363\n",
              "V212              76.196363\n",
              "V213              76.196363\n",
              "V214              76.196363\n",
              "V215              76.196363\n",
              "V216              76.196363\n",
              "V217              77.842314\n",
              "V218              77.842314\n",
              "V219              77.842314\n",
              "V220              75.869543\n",
              "V221              75.869543\n",
              "V222              75.869543\n",
              "V223              77.842314\n",
              "V224              77.842314\n",
              "V225              77.842314\n",
              "V226              77.842314\n",
              "V227              75.869543\n",
              "V228              77.842314\n",
              "V229              77.842314\n",
              "V230              77.842314\n",
              "V231              77.842314\n",
              "V232              77.842314\n",
              "V233              77.842314\n",
              "V234              75.869543\n",
              "V235              77.842314\n",
              "V236              77.842314\n",
              "V237              77.842314\n",
              "V238              75.869543\n",
              "V239              75.869543\n",
              "V240              77.842314\n",
              "V241              77.842314\n",
              "V242              77.842314\n",
              "V243              77.842314\n",
              "V244              77.842314\n",
              "V245              75.869543\n",
              "V246              77.842314\n",
              "V247              77.842314\n",
              "V248              77.842314\n",
              "V249              77.842314\n",
              "V250              75.869543\n",
              "V251              75.869543\n",
              "V252              77.842314\n",
              "V253              77.842314\n",
              "V254              77.842314\n",
              "V255              75.869543\n",
              "V256              75.869543\n",
              "V257              77.842314\n",
              "V258              77.842314\n",
              "V259              75.869543\n",
              "V260              77.842314\n",
              "V261              77.842314\n",
              "V262              77.842314\n",
              "V263              77.842314\n",
              "V264              77.842314\n",
              "V265              77.842314\n",
              "V266              77.842314\n",
              "V267              77.842314\n",
              "V268              77.842314\n",
              "V269              77.842314\n",
              "V270              75.869543\n",
              "V271              75.869543\n",
              "V272              75.869543\n",
              "V273              77.842314\n",
              "V274              77.842314\n",
              "V275              77.842314\n",
              "V276              77.842314\n",
              "V277              77.842314\n",
              "V278              77.842314\n",
              "V279               0.005080\n",
              "V280               0.005080\n",
              "V281               0.204897\n",
              "V282               0.204897\n",
              "V283               0.204897\n",
              "V284               0.005080\n",
              "V285               0.005080\n",
              "V286               0.005080\n",
              "V287               0.005080\n",
              "V288               0.204897\n",
              "V289               0.204897\n",
              "V290               0.005080\n",
              "V291               0.005080\n",
              "V292               0.005080\n",
              "V293               0.005080\n",
              "V294               0.005080\n",
              "V295               0.005080\n",
              "V296               0.204897\n",
              "V297               0.005080\n",
              "V298               0.005080\n",
              "V299               0.005080\n",
              "V300               0.204897\n",
              "V301               0.204897\n",
              "V302               0.005080\n",
              "V303               0.005080\n",
              "V304               0.005080\n",
              "V305               0.005080\n",
              "V306               0.005080\n",
              "V307               0.005080\n",
              "V308               0.005080\n",
              "V309               0.005080\n",
              "V310               0.005080\n",
              "V311               0.005080\n",
              "V312               0.005080\n",
              "V313               0.204897\n",
              "V314               0.204897\n",
              "V315               0.204897\n",
              "V316               0.005080\n",
              "V317               0.005080\n",
              "V318               0.005080\n",
              "V319               0.005080\n",
              "V320               0.005080\n",
              "V321               0.005080\n",
              "V322              86.095777\n",
              "V323              86.095777\n",
              "V324              86.095777\n",
              "V325              86.095777\n",
              "V326              86.095777\n",
              "V327              86.095777\n",
              "V328              86.095777\n",
              "V329              86.095777\n",
              "V330              86.095777\n",
              "V331              86.095777\n",
              "V332              86.095777\n",
              "V333              86.095777\n",
              "V334              86.095777\n",
              "V335              86.095777\n",
              "V336              86.095777\n",
              "V337              86.095777\n",
              "V338              86.095777\n",
              "V339              86.095777\n",
              "id_01             75.353067\n",
              "id_02             75.964372\n",
              "id_03             88.659532\n",
              "id_04             88.659532\n",
              "id_05             76.597690\n",
              "id_06             76.597690\n",
              "id_07             99.110983\n",
              "id_08             99.110983\n",
              "id_09             87.210011\n",
              "id_10             87.210011\n",
              "id_11             75.945745\n",
              "id_12             75.353067\n",
              "id_13             78.177600\n",
              "id_14             86.515731\n",
              "id_15             75.945745\n",
              "id_16             77.967623\n",
              "id_17             76.189589\n",
              "id_18             92.361229\n",
              "id_19             76.192976\n",
              "id_20             76.201443\n",
              "id_21             99.110983\n",
              "id_22             99.110983\n",
              "id_23             99.110983\n",
              "id_24             99.175331\n",
              "id_25             99.112677\n",
              "id_26             99.110983\n",
              "id_27             99.110983\n",
              "id_28             75.945745\n",
              "id_29             75.945745\n",
              "id_30             86.937379\n",
              "id_31             76.065974\n",
              "id_32             86.935686\n",
              "id_33             87.636739\n",
              "id_34             86.891658\n",
              "id_35             75.945745\n",
              "id_36             75.945745\n",
              "id_37             75.945745\n",
              "id_38             75.945745\n",
              "DeviceType        75.979612\n",
              "DeviceInfo        79.813391\n",
              "dtype: float64"
            ]
          },
          "metadata": {
            "tags": []
          },
          "execution_count": 27
        }
      ]
    },
    {
      "cell_type": "code",
      "metadata": {
        "id": "ORkq0O_kaGTq",
        "outputId": "58003f22-414d-4360-d67c-86141d1a478f"
      },
      "source": [
        "# Let's have a look if there still exist any missing values\n",
        "fraud_data.isnull().sum() / len(fraud_data) * 100"
      ],
      "execution_count": null,
      "outputs": [
        {
          "output_type": "execute_result",
          "data": {
            "text/plain": [
              "TransactionID     0.0\n",
              "isFraud           0.0\n",
              "TransactionDT     0.0\n",
              "TransactionAmt    0.0\n",
              "ProductCD         0.0\n",
              "card1             0.0\n",
              "card2             0.0\n",
              "card3             0.0\n",
              "card4             0.0\n",
              "card5             0.0\n",
              "card6             0.0\n",
              "addr1             0.0\n",
              "addr2             0.0\n",
              "dist1             0.0\n",
              "dist2             0.0\n",
              "P_emaildomain     0.0\n",
              "R_emaildomain     0.0\n",
              "C1                0.0\n",
              "C2                0.0\n",
              "C3                0.0\n",
              "C4                0.0\n",
              "C5                0.0\n",
              "C6                0.0\n",
              "C7                0.0\n",
              "C8                0.0\n",
              "C9                0.0\n",
              "C10               0.0\n",
              "C11               0.0\n",
              "C12               0.0\n",
              "C13               0.0\n",
              "C14               0.0\n",
              "D1                0.0\n",
              "D2                0.0\n",
              "D3                0.0\n",
              "D4                0.0\n",
              "D5                0.0\n",
              "D6                0.0\n",
              "D7                0.0\n",
              "D8                0.0\n",
              "D9                0.0\n",
              "D10               0.0\n",
              "D11               0.0\n",
              "D12               0.0\n",
              "D13               0.0\n",
              "D14               0.0\n",
              "D15               0.0\n",
              "M1                0.0\n",
              "M2                0.0\n",
              "M3                0.0\n",
              "M4                0.0\n",
              "M5                0.0\n",
              "M6                0.0\n",
              "M7                0.0\n",
              "M8                0.0\n",
              "M9                0.0\n",
              "V1                0.0\n",
              "V2                0.0\n",
              "V3                0.0\n",
              "V4                0.0\n",
              "V5                0.0\n",
              "V6                0.0\n",
              "V7                0.0\n",
              "V8                0.0\n",
              "V9                0.0\n",
              "V10               0.0\n",
              "V11               0.0\n",
              "V12               0.0\n",
              "V13               0.0\n",
              "V14               0.0\n",
              "V15               0.0\n",
              "V16               0.0\n",
              "V17               0.0\n",
              "V18               0.0\n",
              "V19               0.0\n",
              "V20               0.0\n",
              "V21               0.0\n",
              "V22               0.0\n",
              "V23               0.0\n",
              "V24               0.0\n",
              "V25               0.0\n",
              "V26               0.0\n",
              "V27               0.0\n",
              "V28               0.0\n",
              "V29               0.0\n",
              "V30               0.0\n",
              "V31               0.0\n",
              "V32               0.0\n",
              "V33               0.0\n",
              "V34               0.0\n",
              "V35               0.0\n",
              "V36               0.0\n",
              "V37               0.0\n",
              "V38               0.0\n",
              "V39               0.0\n",
              "V40               0.0\n",
              "V41               0.0\n",
              "V42               0.0\n",
              "V43               0.0\n",
              "V44               0.0\n",
              "V45               0.0\n",
              "V46               0.0\n",
              "V47               0.0\n",
              "V48               0.0\n",
              "V49               0.0\n",
              "V50               0.0\n",
              "V51               0.0\n",
              "V52               0.0\n",
              "V53               0.0\n",
              "V54               0.0\n",
              "V55               0.0\n",
              "V56               0.0\n",
              "V57               0.0\n",
              "V58               0.0\n",
              "V59               0.0\n",
              "V60               0.0\n",
              "V61               0.0\n",
              "V62               0.0\n",
              "V63               0.0\n",
              "V64               0.0\n",
              "V65               0.0\n",
              "V66               0.0\n",
              "V67               0.0\n",
              "V68               0.0\n",
              "V69               0.0\n",
              "V70               0.0\n",
              "V71               0.0\n",
              "V72               0.0\n",
              "V73               0.0\n",
              "V74               0.0\n",
              "V75               0.0\n",
              "V76               0.0\n",
              "V77               0.0\n",
              "V78               0.0\n",
              "V79               0.0\n",
              "V80               0.0\n",
              "V81               0.0\n",
              "V82               0.0\n",
              "V83               0.0\n",
              "V84               0.0\n",
              "V85               0.0\n",
              "V86               0.0\n",
              "V87               0.0\n",
              "V88               0.0\n",
              "V89               0.0\n",
              "V90               0.0\n",
              "V91               0.0\n",
              "V92               0.0\n",
              "V93               0.0\n",
              "V94               0.0\n",
              "V95               0.0\n",
              "V96               0.0\n",
              "V97               0.0\n",
              "V98               0.0\n",
              "V99               0.0\n",
              "V100              0.0\n",
              "V101              0.0\n",
              "V102              0.0\n",
              "V103              0.0\n",
              "V104              0.0\n",
              "V105              0.0\n",
              "V106              0.0\n",
              "V107              0.0\n",
              "V108              0.0\n",
              "V109              0.0\n",
              "V110              0.0\n",
              "V111              0.0\n",
              "V112              0.0\n",
              "V113              0.0\n",
              "V114              0.0\n",
              "V115              0.0\n",
              "V116              0.0\n",
              "V117              0.0\n",
              "V118              0.0\n",
              "V119              0.0\n",
              "V120              0.0\n",
              "V121              0.0\n",
              "V122              0.0\n",
              "V123              0.0\n",
              "V124              0.0\n",
              "V125              0.0\n",
              "V126              0.0\n",
              "V127              0.0\n",
              "V128              0.0\n",
              "V129              0.0\n",
              "V130              0.0\n",
              "V131              0.0\n",
              "V132              0.0\n",
              "V133              0.0\n",
              "V134              0.0\n",
              "V135              0.0\n",
              "V136              0.0\n",
              "V137              0.0\n",
              "V138              0.0\n",
              "V139              0.0\n",
              "V140              0.0\n",
              "V141              0.0\n",
              "V142              0.0\n",
              "V143              0.0\n",
              "V144              0.0\n",
              "V145              0.0\n",
              "V146              0.0\n",
              "V147              0.0\n",
              "V148              0.0\n",
              "V149              0.0\n",
              "V150              0.0\n",
              "V151              0.0\n",
              "V152              0.0\n",
              "V153              0.0\n",
              "V154              0.0\n",
              "V155              0.0\n",
              "V156              0.0\n",
              "V157              0.0\n",
              "V158              0.0\n",
              "V159              0.0\n",
              "V160              0.0\n",
              "V161              0.0\n",
              "V162              0.0\n",
              "V163              0.0\n",
              "V164              0.0\n",
              "V165              0.0\n",
              "V166              0.0\n",
              "V167              0.0\n",
              "V168              0.0\n",
              "V169              0.0\n",
              "V170              0.0\n",
              "V171              0.0\n",
              "V172              0.0\n",
              "V173              0.0\n",
              "V174              0.0\n",
              "V175              0.0\n",
              "V176              0.0\n",
              "V177              0.0\n",
              "V178              0.0\n",
              "V179              0.0\n",
              "V180              0.0\n",
              "V181              0.0\n",
              "V182              0.0\n",
              "V183              0.0\n",
              "V184              0.0\n",
              "V185              0.0\n",
              "V186              0.0\n",
              "V187              0.0\n",
              "V188              0.0\n",
              "V189              0.0\n",
              "V190              0.0\n",
              "V191              0.0\n",
              "V192              0.0\n",
              "V193              0.0\n",
              "V194              0.0\n",
              "V195              0.0\n",
              "V196              0.0\n",
              "V197              0.0\n",
              "V198              0.0\n",
              "V199              0.0\n",
              "V200              0.0\n",
              "V201              0.0\n",
              "V202              0.0\n",
              "V203              0.0\n",
              "V204              0.0\n",
              "V205              0.0\n",
              "V206              0.0\n",
              "V207              0.0\n",
              "V208              0.0\n",
              "V209              0.0\n",
              "V210              0.0\n",
              "V211              0.0\n",
              "V212              0.0\n",
              "V213              0.0\n",
              "V214              0.0\n",
              "V215              0.0\n",
              "V216              0.0\n",
              "V217              0.0\n",
              "V218              0.0\n",
              "V219              0.0\n",
              "V220              0.0\n",
              "V221              0.0\n",
              "V222              0.0\n",
              "V223              0.0\n",
              "V224              0.0\n",
              "V225              0.0\n",
              "V226              0.0\n",
              "V227              0.0\n",
              "V228              0.0\n",
              "V229              0.0\n",
              "V230              0.0\n",
              "V231              0.0\n",
              "V232              0.0\n",
              "V233              0.0\n",
              "V234              0.0\n",
              "V235              0.0\n",
              "V236              0.0\n",
              "V237              0.0\n",
              "V238              0.0\n",
              "V239              0.0\n",
              "V240              0.0\n",
              "V241              0.0\n",
              "V242              0.0\n",
              "V243              0.0\n",
              "V244              0.0\n",
              "V245              0.0\n",
              "V246              0.0\n",
              "V247              0.0\n",
              "V248              0.0\n",
              "V249              0.0\n",
              "V250              0.0\n",
              "V251              0.0\n",
              "V252              0.0\n",
              "V253              0.0\n",
              "V254              0.0\n",
              "V255              0.0\n",
              "V256              0.0\n",
              "V257              0.0\n",
              "V258              0.0\n",
              "V259              0.0\n",
              "V260              0.0\n",
              "V261              0.0\n",
              "V262              0.0\n",
              "V263              0.0\n",
              "V264              0.0\n",
              "V265              0.0\n",
              "V266              0.0\n",
              "V267              0.0\n",
              "V268              0.0\n",
              "V269              0.0\n",
              "V270              0.0\n",
              "V271              0.0\n",
              "V272              0.0\n",
              "V273              0.0\n",
              "V274              0.0\n",
              "V275              0.0\n",
              "V276              0.0\n",
              "V277              0.0\n",
              "V278              0.0\n",
              "V279              0.0\n",
              "V280              0.0\n",
              "V281              0.0\n",
              "V282              0.0\n",
              "V283              0.0\n",
              "V284              0.0\n",
              "V285              0.0\n",
              "V286              0.0\n",
              "V287              0.0\n",
              "V288              0.0\n",
              "V289              0.0\n",
              "V290              0.0\n",
              "V291              0.0\n",
              "V292              0.0\n",
              "V293              0.0\n",
              "V294              0.0\n",
              "V295              0.0\n",
              "V296              0.0\n",
              "V297              0.0\n",
              "V298              0.0\n",
              "V299              0.0\n",
              "V300              0.0\n",
              "V301              0.0\n",
              "V302              0.0\n",
              "V303              0.0\n",
              "V304              0.0\n",
              "V305              0.0\n",
              "V306              0.0\n",
              "V307              0.0\n",
              "V308              0.0\n",
              "V309              0.0\n",
              "V310              0.0\n",
              "V311              0.0\n",
              "V312              0.0\n",
              "V313              0.0\n",
              "V314              0.0\n",
              "V315              0.0\n",
              "V316              0.0\n",
              "V317              0.0\n",
              "V318              0.0\n",
              "V319              0.0\n",
              "V320              0.0\n",
              "V321              0.0\n",
              "V322              0.0\n",
              "V323              0.0\n",
              "V324              0.0\n",
              "V325              0.0\n",
              "V326              0.0\n",
              "V327              0.0\n",
              "V328              0.0\n",
              "V329              0.0\n",
              "V330              0.0\n",
              "V331              0.0\n",
              "V332              0.0\n",
              "V333              0.0\n",
              "V334              0.0\n",
              "V335              0.0\n",
              "V336              0.0\n",
              "V337              0.0\n",
              "V338              0.0\n",
              "V339              0.0\n",
              "id_01             0.0\n",
              "id_02             0.0\n",
              "id_03             0.0\n",
              "id_04             0.0\n",
              "id_05             0.0\n",
              "id_06             0.0\n",
              "id_07             0.0\n",
              "id_08             0.0\n",
              "id_09             0.0\n",
              "id_10             0.0\n",
              "id_11             0.0\n",
              "id_12             0.0\n",
              "id_13             0.0\n",
              "id_14             0.0\n",
              "id_15             0.0\n",
              "id_16             0.0\n",
              "id_17             0.0\n",
              "id_18             0.0\n",
              "id_19             0.0\n",
              "id_20             0.0\n",
              "id_21             0.0\n",
              "id_22             0.0\n",
              "id_23             0.0\n",
              "id_24             0.0\n",
              "id_25             0.0\n",
              "id_26             0.0\n",
              "id_27             0.0\n",
              "id_28             0.0\n",
              "id_29             0.0\n",
              "id_30             0.0\n",
              "id_31             0.0\n",
              "id_32             0.0\n",
              "id_33             0.0\n",
              "id_34             0.0\n",
              "id_35             0.0\n",
              "id_36             0.0\n",
              "id_37             0.0\n",
              "id_38             0.0\n",
              "DeviceType        0.0\n",
              "DeviceInfo        0.0\n",
              "dtype: float64"
            ]
          },
          "metadata": {
            "tags": []
          },
          "execution_count": 28
        }
      ]
    },
    {
      "cell_type": "markdown",
      "metadata": {
        "id": "E4KS49ByaGTq"
      },
      "source": [
        "## One hot encoding"
      ]
    },
    {
      "cell_type": "code",
      "metadata": {
        "id": "BwQ_Y2_DaGTq",
        "outputId": "4fe15d47-9dea-4680-e791-d861f2f94243"
      },
      "source": [
        "# earlier we have collected all the categorical columns in cat_cols\n",
        "fraud_data.shape\n",
        "fraud_data[cat_cols] = fraud_data[cat_cols].fillna(fraud_data[cat_cols].mode().iloc[0])\n",
        "fraud_data = pd.get_dummies(fraud_data, columns=cat_cols)\n",
        "fraud_data.shape\n",
        "fraud_data.head()"
      ],
      "execution_count": null,
      "outputs": [
        {
          "output_type": "execute_result",
          "data": {
            "text/plain": [
              "(59054, 434)"
            ]
          },
          "metadata": {
            "tags": []
          },
          "execution_count": 29
        },
        {
          "output_type": "execute_result",
          "data": {
            "text/plain": [
              "(59054, 1667)"
            ]
          },
          "metadata": {
            "tags": []
          },
          "execution_count": 29
        },
        {
          "output_type": "execute_result",
          "data": {
            "text/html": [
              "<div>\n",
              "<style scoped>\n",
              "    .dataframe tbody tr th:only-of-type {\n",
              "        vertical-align: middle;\n",
              "    }\n",
              "\n",
              "    .dataframe tbody tr th {\n",
              "        vertical-align: top;\n",
              "    }\n",
              "\n",
              "    .dataframe thead th {\n",
              "        text-align: right;\n",
              "    }\n",
              "</style>\n",
              "<table border=\"1\" class=\"dataframe\">\n",
              "  <thead>\n",
              "    <tr style=\"text-align: right;\">\n",
              "      <th></th>\n",
              "      <th>TransactionID</th>\n",
              "      <th>isFraud</th>\n",
              "      <th>TransactionDT</th>\n",
              "      <th>TransactionAmt</th>\n",
              "      <th>card1</th>\n",
              "      <th>card2</th>\n",
              "      <th>card3</th>\n",
              "      <th>card5</th>\n",
              "      <th>addr1</th>\n",
              "      <th>addr2</th>\n",
              "      <th>...</th>\n",
              "      <th>DeviceInfo_rv:54.0</th>\n",
              "      <th>DeviceInfo_rv:55.0</th>\n",
              "      <th>DeviceInfo_rv:56.0</th>\n",
              "      <th>DeviceInfo_rv:57.0</th>\n",
              "      <th>DeviceInfo_rv:58.0</th>\n",
              "      <th>DeviceInfo_rv:59.0</th>\n",
              "      <th>DeviceInfo_rv:60.0</th>\n",
              "      <th>DeviceInfo_verykools4009</th>\n",
              "      <th>DeviceInfo_verykools5034</th>\n",
              "      <th>DeviceInfo_vivo</th>\n",
              "    </tr>\n",
              "  </thead>\n",
              "  <tbody>\n",
              "    <tr>\n",
              "      <th>0</th>\n",
              "      <td>2994681</td>\n",
              "      <td>0</td>\n",
              "      <td>242834</td>\n",
              "      <td>25.000</td>\n",
              "      <td>9803</td>\n",
              "      <td>583.0</td>\n",
              "      <td>150.0</td>\n",
              "      <td>226.0</td>\n",
              "      <td>269.0</td>\n",
              "      <td>87.0</td>\n",
              "      <td>...</td>\n",
              "      <td>0</td>\n",
              "      <td>0</td>\n",
              "      <td>1</td>\n",
              "      <td>0</td>\n",
              "      <td>0</td>\n",
              "      <td>0</td>\n",
              "      <td>0</td>\n",
              "      <td>0</td>\n",
              "      <td>0</td>\n",
              "      <td>0</td>\n",
              "    </tr>\n",
              "    <tr>\n",
              "      <th>1</th>\n",
              "      <td>3557242</td>\n",
              "      <td>0</td>\n",
              "      <td>15123000</td>\n",
              "      <td>117.000</td>\n",
              "      <td>7919</td>\n",
              "      <td>194.0</td>\n",
              "      <td>150.0</td>\n",
              "      <td>166.0</td>\n",
              "      <td>181.0</td>\n",
              "      <td>87.0</td>\n",
              "      <td>...</td>\n",
              "      <td>0</td>\n",
              "      <td>0</td>\n",
              "      <td>0</td>\n",
              "      <td>0</td>\n",
              "      <td>0</td>\n",
              "      <td>0</td>\n",
              "      <td>0</td>\n",
              "      <td>0</td>\n",
              "      <td>0</td>\n",
              "      <td>0</td>\n",
              "    </tr>\n",
              "    <tr>\n",
              "      <th>2</th>\n",
              "      <td>3327470</td>\n",
              "      <td>0</td>\n",
              "      <td>8378575</td>\n",
              "      <td>73.773</td>\n",
              "      <td>12778</td>\n",
              "      <td>500.0</td>\n",
              "      <td>185.0</td>\n",
              "      <td>224.0</td>\n",
              "      <td>284.0</td>\n",
              "      <td>60.0</td>\n",
              "      <td>...</td>\n",
              "      <td>0</td>\n",
              "      <td>0</td>\n",
              "      <td>0</td>\n",
              "      <td>0</td>\n",
              "      <td>0</td>\n",
              "      <td>0</td>\n",
              "      <td>0</td>\n",
              "      <td>0</td>\n",
              "      <td>0</td>\n",
              "      <td>0</td>\n",
              "    </tr>\n",
              "    <tr>\n",
              "      <th>3</th>\n",
              "      <td>3118781</td>\n",
              "      <td>0</td>\n",
              "      <td>2607840</td>\n",
              "      <td>400.000</td>\n",
              "      <td>12316</td>\n",
              "      <td>548.0</td>\n",
              "      <td>150.0</td>\n",
              "      <td>195.0</td>\n",
              "      <td>441.0</td>\n",
              "      <td>87.0</td>\n",
              "      <td>...</td>\n",
              "      <td>0</td>\n",
              "      <td>0</td>\n",
              "      <td>0</td>\n",
              "      <td>0</td>\n",
              "      <td>0</td>\n",
              "      <td>0</td>\n",
              "      <td>0</td>\n",
              "      <td>0</td>\n",
              "      <td>0</td>\n",
              "      <td>0</td>\n",
              "    </tr>\n",
              "    <tr>\n",
              "      <th>4</th>\n",
              "      <td>3459772</td>\n",
              "      <td>0</td>\n",
              "      <td>12226544</td>\n",
              "      <td>31.950</td>\n",
              "      <td>9002</td>\n",
              "      <td>453.0</td>\n",
              "      <td>150.0</td>\n",
              "      <td>226.0</td>\n",
              "      <td>264.0</td>\n",
              "      <td>87.0</td>\n",
              "      <td>...</td>\n",
              "      <td>0</td>\n",
              "      <td>0</td>\n",
              "      <td>0</td>\n",
              "      <td>0</td>\n",
              "      <td>0</td>\n",
              "      <td>0</td>\n",
              "      <td>0</td>\n",
              "      <td>0</td>\n",
              "      <td>0</td>\n",
              "      <td>0</td>\n",
              "    </tr>\n",
              "  </tbody>\n",
              "</table>\n",
              "<p>5 rows × 1667 columns</p>\n",
              "</div>"
            ],
            "text/plain": [
              "   TransactionID  isFraud  TransactionDT  TransactionAmt  card1  card2  card3  \\\n",
              "0        2994681        0         242834          25.000   9803  583.0  150.0   \n",
              "1        3557242        0       15123000         117.000   7919  194.0  150.0   \n",
              "2        3327470        0        8378575          73.773  12778  500.0  185.0   \n",
              "3        3118781        0        2607840         400.000  12316  548.0  150.0   \n",
              "4        3459772        0       12226544          31.950   9002  453.0  150.0   \n",
              "\n",
              "   card5  addr1  addr2  ...  DeviceInfo_rv:54.0  DeviceInfo_rv:55.0  \\\n",
              "0  226.0  269.0   87.0  ...                   0                   0   \n",
              "1  166.0  181.0   87.0  ...                   0                   0   \n",
              "2  224.0  284.0   60.0  ...                   0                   0   \n",
              "3  195.0  441.0   87.0  ...                   0                   0   \n",
              "4  226.0  264.0   87.0  ...                   0                   0   \n",
              "\n",
              "   DeviceInfo_rv:56.0  DeviceInfo_rv:57.0  DeviceInfo_rv:58.0  \\\n",
              "0                   1                   0                   0   \n",
              "1                   0                   0                   0   \n",
              "2                   0                   0                   0   \n",
              "3                   0                   0                   0   \n",
              "4                   0                   0                   0   \n",
              "\n",
              "   DeviceInfo_rv:59.0  DeviceInfo_rv:60.0  DeviceInfo_verykools4009  \\\n",
              "0                   0                   0                         0   \n",
              "1                   0                   0                         0   \n",
              "2                   0                   0                         0   \n",
              "3                   0                   0                         0   \n",
              "4                   0                   0                         0   \n",
              "\n",
              "   DeviceInfo_verykools5034  DeviceInfo_vivo  \n",
              "0                         0                0  \n",
              "1                         0                0  \n",
              "2                         0                0  \n",
              "3                         0                0  \n",
              "4                         0                0  \n",
              "\n",
              "[5 rows x 1667 columns]"
            ]
          },
          "metadata": {
            "tags": []
          },
          "execution_count": 29
        }
      ]
    },
    {
      "cell_type": "markdown",
      "metadata": {
        "id": "M0AFjns5aGTr"
      },
      "source": [
        "## Feature transformation"
      ]
    },
    {
      "cell_type": "code",
      "metadata": {
        "id": "6g3Z10L3aGTr"
      },
      "source": [
        "# Separate input features and output feature\n",
        "# input features\n",
        "X = fraud_data.drop(columns = ['isFraud'])       \n",
        "\n",
        "# output feature\n",
        "Y = fraud_data.isFraud      "
      ],
      "execution_count": null,
      "outputs": []
    },
    {
      "cell_type": "code",
      "metadata": {
        "id": "9h0UUYEIaGTr",
        "outputId": "f8236e51-2a37-4458-cc3e-6431ff17c232"
      },
      "source": [
        "from sklearn.preprocessing import StandardScaler\n",
        "scaled_features = StandardScaler().fit_transform(X)\n",
        "scaled_features = pd.DataFrame(data=scaled_features)\n",
        "scaled_features.columns= X.columns\n",
        "\n",
        "# Let's see how the data looks after scaling\n",
        "scaled_features.head()"
      ],
      "execution_count": null,
      "outputs": [
        {
          "output_type": "execute_result",
          "data": {
            "text/html": [
              "<div>\n",
              "<style scoped>\n",
              "    .dataframe tbody tr th:only-of-type {\n",
              "        vertical-align: middle;\n",
              "    }\n",
              "\n",
              "    .dataframe tbody tr th {\n",
              "        vertical-align: top;\n",
              "    }\n",
              "\n",
              "    .dataframe thead th {\n",
              "        text-align: right;\n",
              "    }\n",
              "</style>\n",
              "<table border=\"1\" class=\"dataframe\">\n",
              "  <thead>\n",
              "    <tr style=\"text-align: right;\">\n",
              "      <th></th>\n",
              "      <th>TransactionID</th>\n",
              "      <th>TransactionDT</th>\n",
              "      <th>TransactionAmt</th>\n",
              "      <th>card1</th>\n",
              "      <th>card2</th>\n",
              "      <th>card3</th>\n",
              "      <th>card5</th>\n",
              "      <th>addr1</th>\n",
              "      <th>addr2</th>\n",
              "      <th>dist1</th>\n",
              "      <th>...</th>\n",
              "      <th>DeviceInfo_rv:54.0</th>\n",
              "      <th>DeviceInfo_rv:55.0</th>\n",
              "      <th>DeviceInfo_rv:56.0</th>\n",
              "      <th>DeviceInfo_rv:57.0</th>\n",
              "      <th>DeviceInfo_rv:58.0</th>\n",
              "      <th>DeviceInfo_rv:59.0</th>\n",
              "      <th>DeviceInfo_rv:60.0</th>\n",
              "      <th>DeviceInfo_verykools4009</th>\n",
              "      <th>DeviceInfo_verykools5034</th>\n",
              "      <th>DeviceInfo_vivo</th>\n",
              "    </tr>\n",
              "  </thead>\n",
              "  <tbody>\n",
              "    <tr>\n",
              "      <th>0</th>\n",
              "      <td>-1.688548</td>\n",
              "      <td>-1.544958</td>\n",
              "      <td>-0.468203</td>\n",
              "      <td>-0.021940</td>\n",
              "      <td>1.412632</td>\n",
              "      <td>-0.286861</td>\n",
              "      <td>0.653753</td>\n",
              "      <td>-0.225982</td>\n",
              "      <td>0.077832</td>\n",
              "      <td>1.224253e-16</td>\n",
              "      <td>...</td>\n",
              "      <td>-0.00582</td>\n",
              "      <td>-0.004115</td>\n",
              "      <td>67.391508</td>\n",
              "      <td>-0.041185</td>\n",
              "      <td>-0.020164</td>\n",
              "      <td>-0.027306</td>\n",
              "      <td>-0.010888</td>\n",
              "      <td>-0.004115</td>\n",
              "      <td>-0.004115</td>\n",
              "      <td>-0.004115</td>\n",
              "    </tr>\n",
              "    <tr>\n",
              "      <th>1</th>\n",
              "      <td>1.615662</td>\n",
              "      <td>1.681426</td>\n",
              "      <td>-0.073540</td>\n",
              "      <td>-0.406928</td>\n",
              "      <td>-1.078794</td>\n",
              "      <td>-0.286861</td>\n",
              "      <td>-0.804662</td>\n",
              "      <td>-1.144356</td>\n",
              "      <td>0.077832</td>\n",
              "      <td>1.582320e+00</td>\n",
              "      <td>...</td>\n",
              "      <td>-0.00582</td>\n",
              "      <td>-0.004115</td>\n",
              "      <td>-0.014839</td>\n",
              "      <td>-0.041185</td>\n",
              "      <td>-0.020164</td>\n",
              "      <td>-0.027306</td>\n",
              "      <td>-0.010888</td>\n",
              "      <td>-0.004115</td>\n",
              "      <td>-0.004115</td>\n",
              "      <td>-0.004115</td>\n",
              "    </tr>\n",
              "    <tr>\n",
              "      <th>2</th>\n",
              "      <td>0.266093</td>\n",
              "      <td>0.219070</td>\n",
              "      <td>-0.258976</td>\n",
              "      <td>0.585989</td>\n",
              "      <td>0.881042</td>\n",
              "      <td>2.788641</td>\n",
              "      <td>0.605139</td>\n",
              "      <td>-0.069441</td>\n",
              "      <td>-10.788933</td>\n",
              "      <td>1.224253e-16</td>\n",
              "      <td>...</td>\n",
              "      <td>-0.00582</td>\n",
              "      <td>-0.004115</td>\n",
              "      <td>-0.014839</td>\n",
              "      <td>-0.041185</td>\n",
              "      <td>-0.020164</td>\n",
              "      <td>-0.027306</td>\n",
              "      <td>-0.010888</td>\n",
              "      <td>-0.004115</td>\n",
              "      <td>-0.004115</td>\n",
              "      <td>-0.004115</td>\n",
              "    </tr>\n",
              "    <tr>\n",
              "      <th>3</th>\n",
              "      <td>-0.959645</td>\n",
              "      <td>-1.032167</td>\n",
              "      <td>1.140478</td>\n",
              "      <td>0.491581</td>\n",
              "      <td>1.188468</td>\n",
              "      <td>-0.286861</td>\n",
              "      <td>-0.099761</td>\n",
              "      <td>1.569022</td>\n",
              "      <td>0.077832</td>\n",
              "      <td>1.224253e-16</td>\n",
              "      <td>...</td>\n",
              "      <td>-0.00582</td>\n",
              "      <td>-0.004115</td>\n",
              "      <td>-0.014839</td>\n",
              "      <td>-0.041185</td>\n",
              "      <td>-0.020164</td>\n",
              "      <td>-0.027306</td>\n",
              "      <td>-0.010888</td>\n",
              "      <td>-0.004115</td>\n",
              "      <td>-0.004115</td>\n",
              "      <td>-0.004115</td>\n",
              "    </tr>\n",
              "    <tr>\n",
              "      <th>4</th>\n",
              "      <td>1.043171</td>\n",
              "      <td>1.053404</td>\n",
              "      <td>-0.438389</td>\n",
              "      <td>-0.185621</td>\n",
              "      <td>0.580022</td>\n",
              "      <td>-0.286861</td>\n",
              "      <td>0.653753</td>\n",
              "      <td>-0.278162</td>\n",
              "      <td>0.077832</td>\n",
              "      <td>-4.551081e-01</td>\n",
              "      <td>...</td>\n",
              "      <td>-0.00582</td>\n",
              "      <td>-0.004115</td>\n",
              "      <td>-0.014839</td>\n",
              "      <td>-0.041185</td>\n",
              "      <td>-0.020164</td>\n",
              "      <td>-0.027306</td>\n",
              "      <td>-0.010888</td>\n",
              "      <td>-0.004115</td>\n",
              "      <td>-0.004115</td>\n",
              "      <td>-0.004115</td>\n",
              "    </tr>\n",
              "  </tbody>\n",
              "</table>\n",
              "<p>5 rows × 1666 columns</p>\n",
              "</div>"
            ],
            "text/plain": [
              "   TransactionID  TransactionDT  TransactionAmt     card1     card2     card3  \\\n",
              "0      -1.688548      -1.544958       -0.468203 -0.021940  1.412632 -0.286861   \n",
              "1       1.615662       1.681426       -0.073540 -0.406928 -1.078794 -0.286861   \n",
              "2       0.266093       0.219070       -0.258976  0.585989  0.881042  2.788641   \n",
              "3      -0.959645      -1.032167        1.140478  0.491581  1.188468 -0.286861   \n",
              "4       1.043171       1.053404       -0.438389 -0.185621  0.580022 -0.286861   \n",
              "\n",
              "      card5     addr1      addr2         dist1  ...  DeviceInfo_rv:54.0  \\\n",
              "0  0.653753 -0.225982   0.077832  1.224253e-16  ...            -0.00582   \n",
              "1 -0.804662 -1.144356   0.077832  1.582320e+00  ...            -0.00582   \n",
              "2  0.605139 -0.069441 -10.788933  1.224253e-16  ...            -0.00582   \n",
              "3 -0.099761  1.569022   0.077832  1.224253e-16  ...            -0.00582   \n",
              "4  0.653753 -0.278162   0.077832 -4.551081e-01  ...            -0.00582   \n",
              "\n",
              "   DeviceInfo_rv:55.0  DeviceInfo_rv:56.0  DeviceInfo_rv:57.0  \\\n",
              "0           -0.004115           67.391508           -0.041185   \n",
              "1           -0.004115           -0.014839           -0.041185   \n",
              "2           -0.004115           -0.014839           -0.041185   \n",
              "3           -0.004115           -0.014839           -0.041185   \n",
              "4           -0.004115           -0.014839           -0.041185   \n",
              "\n",
              "   DeviceInfo_rv:58.0  DeviceInfo_rv:59.0  DeviceInfo_rv:60.0  \\\n",
              "0           -0.020164           -0.027306           -0.010888   \n",
              "1           -0.020164           -0.027306           -0.010888   \n",
              "2           -0.020164           -0.027306           -0.010888   \n",
              "3           -0.020164           -0.027306           -0.010888   \n",
              "4           -0.020164           -0.027306           -0.010888   \n",
              "\n",
              "   DeviceInfo_verykools4009  DeviceInfo_verykools5034  DeviceInfo_vivo  \n",
              "0                 -0.004115                 -0.004115        -0.004115  \n",
              "1                 -0.004115                 -0.004115        -0.004115  \n",
              "2                 -0.004115                 -0.004115        -0.004115  \n",
              "3                 -0.004115                 -0.004115        -0.004115  \n",
              "4                 -0.004115                 -0.004115        -0.004115  \n",
              "\n",
              "[5 rows x 1666 columns]"
            ]
          },
          "metadata": {
            "tags": []
          },
          "execution_count": 31
        }
      ]
    },
    {
      "cell_type": "markdown",
      "metadata": {
        "id": "VJewAT-LaGTr"
      },
      "source": [
        "## Splitting the data"
      ]
    },
    {
      "cell_type": "code",
      "metadata": {
        "id": "iwkL7pq_aGTr"
      },
      "source": [
        "from sklearn.model_selection import train_test_split\n",
        "X_train, X_test, Y_train, Y_test = train_test_split(X, Y, test_size = 0.3, random_state = 42)\n",
        "\n",
        "# X_train: independent feature data for training the model\n",
        "# Y_train: dependent feature data for training the model\n",
        "# X_test: independent feature data for testing the model; will be used to predict the target values\n",
        "# Y_test: original target values of X_test; We will compare this values with our predicted values.\n",
        " \n",
        "# test_size = 0.3: 30% of the data will go for test set and 70% of the data will go for train set\n",
        "# random_state = 42: this will fix the split i.e. there will be same split for each time you run the code"
      ],
      "execution_count": null,
      "outputs": []
    },
    {
      "cell_type": "markdown",
      "metadata": {
        "id": "3P3NfLBAaGTr"
      },
      "source": [
        "## Dealing with imbalanced data"
      ]
    },
    {
      "cell_type": "markdown",
      "metadata": {
        "id": "894_Q6BPaGTr"
      },
      "source": [
        "### Over sampling minority class"
      ]
    },
    {
      "cell_type": "code",
      "metadata": {
        "id": "j8Rux3ZjaGTr"
      },
      "source": [
        "# 'resample' is located under sklearn.utils\n",
        "from sklearn.utils import resample\n",
        "\n",
        "# concatenate training data back together\n",
        "train_data = pd.concat([X_train, Y_train], axis = 1)\n",
        "\n",
        "# separate minority and majority class\n",
        "not_fraud = train_data[train_data.isFraud==0]\n",
        "fraud = train_data[train_data.isFraud==1]"
      ],
      "execution_count": null,
      "outputs": []
    },
    {
      "cell_type": "code",
      "metadata": {
        "id": "FmXcg7s_aGTr"
      },
      "source": [
        "# Unsample minority; we are oversampling the minority class to match the number of majority classs\n",
        "fraud_upsampled = resample(fraud,\n",
        "                           replace = True, # Sample with replacement\n",
        "                           n_samples = len(not_fraud), # Match number in majority class\n",
        "                           random_state=27)"
      ],
      "execution_count": null,
      "outputs": []
    },
    {
      "cell_type": "code",
      "metadata": {
        "id": "KNmtc8nJaGTr"
      },
      "source": [
        "# combine majority and upsampled minority\n",
        "upsampled = pd.concat([not_fraud, fraud_upsampled])"
      ],
      "execution_count": null,
      "outputs": []
    },
    {
      "cell_type": "code",
      "metadata": {
        "id": "0LJ8I9ULaGTr",
        "outputId": "31c66a47-d58d-44ff-ed4b-27faf570c52c"
      },
      "source": [
        "# Now let's check the classes count\n",
        "upsampled.isFraud.value_counts()\n",
        "\n",
        "# We can notice here after resampling we have an equal ratio of data points for each class!"
      ],
      "execution_count": null,
      "outputs": [
        {
          "output_type": "execute_result",
          "data": {
            "text/plain": [
              "1    39942\n",
              "0    39942\n",
              "Name: isFraud, dtype: int64"
            ]
          },
          "metadata": {
            "tags": []
          },
          "execution_count": 36
        }
      ]
    },
    {
      "cell_type": "markdown",
      "metadata": {
        "id": "ZW3WHLjtaGTr"
      },
      "source": [
        "### Under sampling majority class"
      ]
    },
    {
      "cell_type": "code",
      "metadata": {
        "id": "tJe2WYRJaGTr"
      },
      "source": [
        "# we are still using our separated class i.e. fraud and not_fraud from above\n",
        "# Again we are removing the observations of the majority class to mathch the number of minority class\n",
        "# downsample majority\n",
        "not_fraud_downsampled = resample(not_fraud,\n",
        "                                replace = False, # sample without replacement\n",
        "                                n_samples = len(fraud), # match minority n\n",
        "                                random_state = 27)"
      ],
      "execution_count": null,
      "outputs": []
    },
    {
      "cell_type": "code",
      "metadata": {
        "id": "sf0p5GUOaGTr"
      },
      "source": [
        "# combine minority and downsampled majority\n",
        "downsampled = pd.concat([not_fraud_downsampled, fraud])    # Concatenation"
      ],
      "execution_count": null,
      "outputs": []
    },
    {
      "cell_type": "code",
      "metadata": {
        "id": "bCOrrNjpaGTr",
        "outputId": "d5fc9588-fddd-4bc7-94fe-cddfaffc9fe1"
      },
      "source": [
        "# let's check the classes counts\n",
        "downsampled.isFraud.value_counts()\n",
        "\n",
        "# we have an equal ratio of fraud to not fraud data points, but in this case \n",
        "# a much smaller quantity of data to train the model on."
      ],
      "execution_count": null,
      "outputs": [
        {
          "output_type": "execute_result",
          "data": {
            "text/plain": [
              "1    1395\n",
              "0    1395\n",
              "Name: isFraud, dtype: int64"
            ]
          },
          "metadata": {
            "tags": []
          },
          "execution_count": 39
        }
      ]
    },
    {
      "cell_type": "markdown",
      "metadata": {
        "id": "OiVb8fvLaGTr"
      },
      "source": [
        "### SMOTE - Synthetic Minority Oversampling Technique"
      ]
    },
    {
      "cell_type": "code",
      "metadata": {
        "id": "BlR7oWSPaGTr"
      },
      "source": [
        "# import SMOTE \n",
        "from imblearn.over_sampling import SMOTE\n",
        "\n",
        "sm = SMOTE(random_state = 25, sampling_strategy = 1.0)   # again we are eqalizing both the classes"
      ],
      "execution_count": null,
      "outputs": []
    },
    {
      "cell_type": "code",
      "metadata": {
        "id": "2-U76OKqaGTr"
      },
      "source": [
        "# fit the sampling\n",
        "X_train, Y_train = sm.fit_sample(X_train, Y_train)"
      ],
      "execution_count": null,
      "outputs": []
    },
    {
      "cell_type": "code",
      "metadata": {
        "id": "eFixevAtaGTr"
      },
      "source": [
        ""
      ],
      "execution_count": null,
      "outputs": []
    }
  ]
}